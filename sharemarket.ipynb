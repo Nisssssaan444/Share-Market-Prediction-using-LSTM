{
  "nbformat": 4,
  "nbformat_minor": 0,
  "metadata": {
    "colab": {
      "provenance": [],
      "gpuType": "T4"
    },
    "kernelspec": {
      "name": "python3",
      "display_name": "Python 3"
    },
    "language_info": {
      "name": "python"
    },
    "accelerator": "GPU"
  },
  "cells": [
    {
      "cell_type": "code",
      "source": [
        "!pip install alpha_vantage\n"
      ],
      "metadata": {
        "colab": {
          "base_uri": "https://localhost:8080/"
        },
        "id": "0IFilE8Cb42b",
        "outputId": "190d6839-b8c9-4f75-91f5-9ad165d2ce76"
      },
      "execution_count": null,
      "outputs": [
        {
          "output_type": "stream",
          "name": "stdout",
          "text": [
            "Collecting alpha_vantage\n",
            "  Downloading alpha_vantage-2.3.1-py3-none-any.whl (31 kB)\n",
            "Requirement already satisfied: aiohttp in /usr/local/lib/python3.10/dist-packages (from alpha_vantage) (3.9.5)\n",
            "Requirement already satisfied: requests in /usr/local/lib/python3.10/dist-packages (from alpha_vantage) (2.31.0)\n",
            "Requirement already satisfied: aiosignal>=1.1.2 in /usr/local/lib/python3.10/dist-packages (from aiohttp->alpha_vantage) (1.3.1)\n",
            "Requirement already satisfied: attrs>=17.3.0 in /usr/local/lib/python3.10/dist-packages (from aiohttp->alpha_vantage) (23.2.0)\n",
            "Requirement already satisfied: frozenlist>=1.1.1 in /usr/local/lib/python3.10/dist-packages (from aiohttp->alpha_vantage) (1.4.1)\n",
            "Requirement already satisfied: multidict<7.0,>=4.5 in /usr/local/lib/python3.10/dist-packages (from aiohttp->alpha_vantage) (6.0.5)\n",
            "Requirement already satisfied: yarl<2.0,>=1.0 in /usr/local/lib/python3.10/dist-packages (from aiohttp->alpha_vantage) (1.9.4)\n",
            "Requirement already satisfied: async-timeout<5.0,>=4.0 in /usr/local/lib/python3.10/dist-packages (from aiohttp->alpha_vantage) (4.0.3)\n",
            "Requirement already satisfied: charset-normalizer<4,>=2 in /usr/local/lib/python3.10/dist-packages (from requests->alpha_vantage) (3.3.2)\n",
            "Requirement already satisfied: idna<4,>=2.5 in /usr/local/lib/python3.10/dist-packages (from requests->alpha_vantage) (3.7)\n",
            "Requirement already satisfied: urllib3<3,>=1.21.1 in /usr/local/lib/python3.10/dist-packages (from requests->alpha_vantage) (2.0.7)\n",
            "Requirement already satisfied: certifi>=2017.4.17 in /usr/local/lib/python3.10/dist-packages (from requests->alpha_vantage) (2024.6.2)\n",
            "Installing collected packages: alpha_vantage\n",
            "Successfully installed alpha_vantage-2.3.1\n"
          ]
        }
      ]
    },
    {
      "cell_type": "code",
      "source": [
        "from alpha_vantage.timeseries import TimeSeries\n",
        "import pandas as pd\n",
        "\n",
        "# Initialize the TimeSeries class with your API key\n",
        "ts = TimeSeries(key='D8LSWOO18XT5BUK6', output_format='pandas')\n",
        "\n",
        "# Retrieve daily time series data for a given symbol\n",
        "symbol = 'AAPL'\n",
        "data, meta_data = ts.get_daily(symbol=symbol, outputsize='full')\n",
        "\n",
        "# Clean up column names by stripping whitespace and removing numeric prefixes\n",
        "data.columns = [col.strip() for col in data.columns]\n",
        "data = data.rename(columns=lambda x: x.split('. ')[-1])\n",
        "\n",
        "# Specify the file path where you want to save the CSV\n",
        "csv_file_path = 'AAPL_daily_data.csv'\n",
        "\n",
        "# Save the data to a CSV file\n",
        "data.to_csv(csv_file_path)\n",
        "\n",
        "print(f'Data has been saved to {csv_file_path}')\n"
      ],
      "metadata": {
        "colab": {
          "base_uri": "https://localhost:8080/"
        },
        "id": "aRhwJsgxf8gj",
        "outputId": "a7354b5e-7be4-4ab3-d9b1-b70972c65d80"
      },
      "execution_count": null,
      "outputs": [
        {
          "output_type": "stream",
          "name": "stdout",
          "text": [
            "Data has been saved to AAPL_daily_data.csv\n"
          ]
        }
      ]
    },
    {
      "cell_type": "code",
      "source": [
        "df=pd.read_csv('/content/AAPL_daily_data.csv')"
      ],
      "metadata": {
        "id": "lq6fyA7LcfL2"
      },
      "execution_count": null,
      "outputs": []
    },
    {
      "cell_type": "code",
      "source": [
        "df.info()"
      ],
      "metadata": {
        "colab": {
          "base_uri": "https://localhost:8080/"
        },
        "id": "j0odqkDFc0q6",
        "outputId": "db290f16-95fb-4fdc-ec20-6b6eb544689f"
      },
      "execution_count": null,
      "outputs": [
        {
          "output_type": "stream",
          "name": "stdout",
          "text": [
            "<class 'pandas.core.frame.DataFrame'>\n",
            "RangeIndex: 6190 entries, 0 to 6189\n",
            "Data columns (total 6 columns):\n",
            " #   Column  Non-Null Count  Dtype  \n",
            "---  ------  --------------  -----  \n",
            " 0   date    6190 non-null   object \n",
            " 1   open    6190 non-null   float64\n",
            " 2   high    6190 non-null   float64\n",
            " 3   low     6190 non-null   float64\n",
            " 4   close   6190 non-null   float64\n",
            " 5   volume  6190 non-null   float64\n",
            "dtypes: float64(5), object(1)\n",
            "memory usage: 290.3+ KB\n"
          ]
        }
      ]
    },
    {
      "cell_type": "code",
      "source": [
        "df.head()"
      ],
      "metadata": {
        "colab": {
          "base_uri": "https://localhost:8080/",
          "height": 206
        },
        "id": "wlFOxEPud3WI",
        "outputId": "93fa27f6-57e9-44fe-ad83-5b5698aaa6af"
      },
      "execution_count": null,
      "outputs": [
        {
          "output_type": "execute_result",
          "data": {
            "text/plain": [
              "         date     open    high       low   close      volume\n",
              "0  2024-06-07  194.650  196.94  194.1400  196.89  53103912.0\n",
              "1  2024-06-06  195.685  196.50  194.1700  194.48  41181753.0\n",
              "2  2024-06-05  195.400  196.90  194.8700  195.87  54156785.0\n",
              "3  2024-06-04  194.635  195.32  193.0342  194.35  47471445.0\n",
              "4  2024-06-03  192.900  194.99  192.5200  194.03  50080539.0"
            ],
            "text/html": [
              "\n",
              "  <div id=\"df-6685cd35-1909-403b-8dd3-cd95d5898cce\" class=\"colab-df-container\">\n",
              "    <div>\n",
              "<style scoped>\n",
              "    .dataframe tbody tr th:only-of-type {\n",
              "        vertical-align: middle;\n",
              "    }\n",
              "\n",
              "    .dataframe tbody tr th {\n",
              "        vertical-align: top;\n",
              "    }\n",
              "\n",
              "    .dataframe thead th {\n",
              "        text-align: right;\n",
              "    }\n",
              "</style>\n",
              "<table border=\"1\" class=\"dataframe\">\n",
              "  <thead>\n",
              "    <tr style=\"text-align: right;\">\n",
              "      <th></th>\n",
              "      <th>date</th>\n",
              "      <th>open</th>\n",
              "      <th>high</th>\n",
              "      <th>low</th>\n",
              "      <th>close</th>\n",
              "      <th>volume</th>\n",
              "    </tr>\n",
              "  </thead>\n",
              "  <tbody>\n",
              "    <tr>\n",
              "      <th>0</th>\n",
              "      <td>2024-06-07</td>\n",
              "      <td>194.650</td>\n",
              "      <td>196.94</td>\n",
              "      <td>194.1400</td>\n",
              "      <td>196.89</td>\n",
              "      <td>53103912.0</td>\n",
              "    </tr>\n",
              "    <tr>\n",
              "      <th>1</th>\n",
              "      <td>2024-06-06</td>\n",
              "      <td>195.685</td>\n",
              "      <td>196.50</td>\n",
              "      <td>194.1700</td>\n",
              "      <td>194.48</td>\n",
              "      <td>41181753.0</td>\n",
              "    </tr>\n",
              "    <tr>\n",
              "      <th>2</th>\n",
              "      <td>2024-06-05</td>\n",
              "      <td>195.400</td>\n",
              "      <td>196.90</td>\n",
              "      <td>194.8700</td>\n",
              "      <td>195.87</td>\n",
              "      <td>54156785.0</td>\n",
              "    </tr>\n",
              "    <tr>\n",
              "      <th>3</th>\n",
              "      <td>2024-06-04</td>\n",
              "      <td>194.635</td>\n",
              "      <td>195.32</td>\n",
              "      <td>193.0342</td>\n",
              "      <td>194.35</td>\n",
              "      <td>47471445.0</td>\n",
              "    </tr>\n",
              "    <tr>\n",
              "      <th>4</th>\n",
              "      <td>2024-06-03</td>\n",
              "      <td>192.900</td>\n",
              "      <td>194.99</td>\n",
              "      <td>192.5200</td>\n",
              "      <td>194.03</td>\n",
              "      <td>50080539.0</td>\n",
              "    </tr>\n",
              "  </tbody>\n",
              "</table>\n",
              "</div>\n",
              "    <div class=\"colab-df-buttons\">\n",
              "\n",
              "  <div class=\"colab-df-container\">\n",
              "    <button class=\"colab-df-convert\" onclick=\"convertToInteractive('df-6685cd35-1909-403b-8dd3-cd95d5898cce')\"\n",
              "            title=\"Convert this dataframe to an interactive table.\"\n",
              "            style=\"display:none;\">\n",
              "\n",
              "  <svg xmlns=\"http://www.w3.org/2000/svg\" height=\"24px\" viewBox=\"0 -960 960 960\">\n",
              "    <path d=\"M120-120v-720h720v720H120Zm60-500h600v-160H180v160Zm220 220h160v-160H400v160Zm0 220h160v-160H400v160ZM180-400h160v-160H180v160Zm440 0h160v-160H620v160ZM180-180h160v-160H180v160Zm440 0h160v-160H620v160Z\"/>\n",
              "  </svg>\n",
              "    </button>\n",
              "\n",
              "  <style>\n",
              "    .colab-df-container {\n",
              "      display:flex;\n",
              "      gap: 12px;\n",
              "    }\n",
              "\n",
              "    .colab-df-convert {\n",
              "      background-color: #E8F0FE;\n",
              "      border: none;\n",
              "      border-radius: 50%;\n",
              "      cursor: pointer;\n",
              "      display: none;\n",
              "      fill: #1967D2;\n",
              "      height: 32px;\n",
              "      padding: 0 0 0 0;\n",
              "      width: 32px;\n",
              "    }\n",
              "\n",
              "    .colab-df-convert:hover {\n",
              "      background-color: #E2EBFA;\n",
              "      box-shadow: 0px 1px 2px rgba(60, 64, 67, 0.3), 0px 1px 3px 1px rgba(60, 64, 67, 0.15);\n",
              "      fill: #174EA6;\n",
              "    }\n",
              "\n",
              "    .colab-df-buttons div {\n",
              "      margin-bottom: 4px;\n",
              "    }\n",
              "\n",
              "    [theme=dark] .colab-df-convert {\n",
              "      background-color: #3B4455;\n",
              "      fill: #D2E3FC;\n",
              "    }\n",
              "\n",
              "    [theme=dark] .colab-df-convert:hover {\n",
              "      background-color: #434B5C;\n",
              "      box-shadow: 0px 1px 3px 1px rgba(0, 0, 0, 0.15);\n",
              "      filter: drop-shadow(0px 1px 2px rgba(0, 0, 0, 0.3));\n",
              "      fill: #FFFFFF;\n",
              "    }\n",
              "  </style>\n",
              "\n",
              "    <script>\n",
              "      const buttonEl =\n",
              "        document.querySelector('#df-6685cd35-1909-403b-8dd3-cd95d5898cce button.colab-df-convert');\n",
              "      buttonEl.style.display =\n",
              "        google.colab.kernel.accessAllowed ? 'block' : 'none';\n",
              "\n",
              "      async function convertToInteractive(key) {\n",
              "        const element = document.querySelector('#df-6685cd35-1909-403b-8dd3-cd95d5898cce');\n",
              "        const dataTable =\n",
              "          await google.colab.kernel.invokeFunction('convertToInteractive',\n",
              "                                                    [key], {});\n",
              "        if (!dataTable) return;\n",
              "\n",
              "        const docLinkHtml = 'Like what you see? Visit the ' +\n",
              "          '<a target=\"_blank\" href=https://colab.research.google.com/notebooks/data_table.ipynb>data table notebook</a>'\n",
              "          + ' to learn more about interactive tables.';\n",
              "        element.innerHTML = '';\n",
              "        dataTable['output_type'] = 'display_data';\n",
              "        await google.colab.output.renderOutput(dataTable, element);\n",
              "        const docLink = document.createElement('div');\n",
              "        docLink.innerHTML = docLinkHtml;\n",
              "        element.appendChild(docLink);\n",
              "      }\n",
              "    </script>\n",
              "  </div>\n",
              "\n",
              "\n",
              "<div id=\"df-3da3f60c-2f82-4b77-96d3-2aa7eb75f450\">\n",
              "  <button class=\"colab-df-quickchart\" onclick=\"quickchart('df-3da3f60c-2f82-4b77-96d3-2aa7eb75f450')\"\n",
              "            title=\"Suggest charts\"\n",
              "            style=\"display:none;\">\n",
              "\n",
              "<svg xmlns=\"http://www.w3.org/2000/svg\" height=\"24px\"viewBox=\"0 0 24 24\"\n",
              "     width=\"24px\">\n",
              "    <g>\n",
              "        <path d=\"M19 3H5c-1.1 0-2 .9-2 2v14c0 1.1.9 2 2 2h14c1.1 0 2-.9 2-2V5c0-1.1-.9-2-2-2zM9 17H7v-7h2v7zm4 0h-2V7h2v10zm4 0h-2v-4h2v4z\"/>\n",
              "    </g>\n",
              "</svg>\n",
              "  </button>\n",
              "\n",
              "<style>\n",
              "  .colab-df-quickchart {\n",
              "      --bg-color: #E8F0FE;\n",
              "      --fill-color: #1967D2;\n",
              "      --hover-bg-color: #E2EBFA;\n",
              "      --hover-fill-color: #174EA6;\n",
              "      --disabled-fill-color: #AAA;\n",
              "      --disabled-bg-color: #DDD;\n",
              "  }\n",
              "\n",
              "  [theme=dark] .colab-df-quickchart {\n",
              "      --bg-color: #3B4455;\n",
              "      --fill-color: #D2E3FC;\n",
              "      --hover-bg-color: #434B5C;\n",
              "      --hover-fill-color: #FFFFFF;\n",
              "      --disabled-bg-color: #3B4455;\n",
              "      --disabled-fill-color: #666;\n",
              "  }\n",
              "\n",
              "  .colab-df-quickchart {\n",
              "    background-color: var(--bg-color);\n",
              "    border: none;\n",
              "    border-radius: 50%;\n",
              "    cursor: pointer;\n",
              "    display: none;\n",
              "    fill: var(--fill-color);\n",
              "    height: 32px;\n",
              "    padding: 0;\n",
              "    width: 32px;\n",
              "  }\n",
              "\n",
              "  .colab-df-quickchart:hover {\n",
              "    background-color: var(--hover-bg-color);\n",
              "    box-shadow: 0 1px 2px rgba(60, 64, 67, 0.3), 0 1px 3px 1px rgba(60, 64, 67, 0.15);\n",
              "    fill: var(--button-hover-fill-color);\n",
              "  }\n",
              "\n",
              "  .colab-df-quickchart-complete:disabled,\n",
              "  .colab-df-quickchart-complete:disabled:hover {\n",
              "    background-color: var(--disabled-bg-color);\n",
              "    fill: var(--disabled-fill-color);\n",
              "    box-shadow: none;\n",
              "  }\n",
              "\n",
              "  .colab-df-spinner {\n",
              "    border: 2px solid var(--fill-color);\n",
              "    border-color: transparent;\n",
              "    border-bottom-color: var(--fill-color);\n",
              "    animation:\n",
              "      spin 1s steps(1) infinite;\n",
              "  }\n",
              "\n",
              "  @keyframes spin {\n",
              "    0% {\n",
              "      border-color: transparent;\n",
              "      border-bottom-color: var(--fill-color);\n",
              "      border-left-color: var(--fill-color);\n",
              "    }\n",
              "    20% {\n",
              "      border-color: transparent;\n",
              "      border-left-color: var(--fill-color);\n",
              "      border-top-color: var(--fill-color);\n",
              "    }\n",
              "    30% {\n",
              "      border-color: transparent;\n",
              "      border-left-color: var(--fill-color);\n",
              "      border-top-color: var(--fill-color);\n",
              "      border-right-color: var(--fill-color);\n",
              "    }\n",
              "    40% {\n",
              "      border-color: transparent;\n",
              "      border-right-color: var(--fill-color);\n",
              "      border-top-color: var(--fill-color);\n",
              "    }\n",
              "    60% {\n",
              "      border-color: transparent;\n",
              "      border-right-color: var(--fill-color);\n",
              "    }\n",
              "    80% {\n",
              "      border-color: transparent;\n",
              "      border-right-color: var(--fill-color);\n",
              "      border-bottom-color: var(--fill-color);\n",
              "    }\n",
              "    90% {\n",
              "      border-color: transparent;\n",
              "      border-bottom-color: var(--fill-color);\n",
              "    }\n",
              "  }\n",
              "</style>\n",
              "\n",
              "  <script>\n",
              "    async function quickchart(key) {\n",
              "      const quickchartButtonEl =\n",
              "        document.querySelector('#' + key + ' button');\n",
              "      quickchartButtonEl.disabled = true;  // To prevent multiple clicks.\n",
              "      quickchartButtonEl.classList.add('colab-df-spinner');\n",
              "      try {\n",
              "        const charts = await google.colab.kernel.invokeFunction(\n",
              "            'suggestCharts', [key], {});\n",
              "      } catch (error) {\n",
              "        console.error('Error during call to suggestCharts:', error);\n",
              "      }\n",
              "      quickchartButtonEl.classList.remove('colab-df-spinner');\n",
              "      quickchartButtonEl.classList.add('colab-df-quickchart-complete');\n",
              "    }\n",
              "    (() => {\n",
              "      let quickchartButtonEl =\n",
              "        document.querySelector('#df-3da3f60c-2f82-4b77-96d3-2aa7eb75f450 button');\n",
              "      quickchartButtonEl.style.display =\n",
              "        google.colab.kernel.accessAllowed ? 'block' : 'none';\n",
              "    })();\n",
              "  </script>\n",
              "</div>\n",
              "\n",
              "    </div>\n",
              "  </div>\n"
            ],
            "application/vnd.google.colaboratory.intrinsic+json": {
              "type": "dataframe",
              "variable_name": "df",
              "summary": "{\n  \"name\": \"df\",\n  \"rows\": 6190,\n  \"fields\": [\n    {\n      \"column\": \"date\",\n      \"properties\": {\n        \"dtype\": \"object\",\n        \"num_unique_values\": 6190,\n        \"samples\": [\n          \"2020-06-23\",\n          \"2022-07-28\",\n          \"2000-04-12\"\n        ],\n        \"semantic_type\": \"\",\n        \"description\": \"\"\n      }\n    },\n    {\n      \"column\": \"open\",\n      \"properties\": {\n        \"dtype\": \"number\",\n        \"std\": 148.10416706948882,\n        \"min\": 12.99,\n        \"max\": 702.41,\n        \"num_unique_values\": 5403,\n        \"samples\": [\n          25.03,\n          14.81,\n          107.9\n        ],\n        \"semantic_type\": \"\",\n        \"description\": \"\"\n      }\n    },\n    {\n      \"column\": \"high\",\n      \"properties\": {\n        \"dtype\": \"number\",\n        \"std\": 149.325029243991,\n        \"min\": 13.19,\n        \"max\": 705.07,\n        \"num_unique_values\": 5301,\n        \"samples\": [\n          160.49,\n          72.56,\n          186.59\n        ],\n        \"semantic_type\": \"\",\n        \"description\": \"\"\n      }\n    },\n    {\n      \"column\": \"low\",\n      \"properties\": {\n        \"dtype\": \"number\",\n        \"std\": 146.68274431523935,\n        \"min\": 12.72,\n        \"max\": 699.57,\n        \"num_unique_values\": 5401,\n        \"samples\": [\n          123.77,\n          57.9,\n          313.85\n        ],\n        \"semantic_type\": \"\",\n        \"description\": \"\"\n      }\n    },\n    {\n      \"column\": \"close\",\n      \"properties\": {\n        \"dtype\": \"number\",\n        \"std\": 148.03953377694626,\n        \"min\": 13.12,\n        \"max\": 702.1,\n        \"num_unique_values\": 5432,\n        \"samples\": [\n          15.06,\n          15.72,\n          129.09\n        ],\n        \"semantic_type\": \"\",\n        \"description\": \"\"\n      }\n    },\n    {\n      \"column\": \"volume\",\n      \"properties\": {\n        \"dtype\": \"number\",\n        \"std\": 30184756.631234717,\n        \"min\": 702500.0,\n        \"max\": 332607163.0,\n        \"num_unique_values\": 6168,\n        \"samples\": [\n          17722500.0,\n          61758340.0,\n          43469000.0\n        ],\n        \"semantic_type\": \"\",\n        \"description\": \"\"\n      }\n    }\n  ]\n}"
            }
          },
          "metadata": {},
          "execution_count": 5
        }
      ]
    },
    {
      "cell_type": "code",
      "source": [
        "d1=df.reset_index()['close']"
      ],
      "metadata": {
        "id": "C2b_JqlcepGW"
      },
      "execution_count": null,
      "outputs": []
    },
    {
      "cell_type": "code",
      "source": [
        "d1.shape"
      ],
      "metadata": {
        "colab": {
          "base_uri": "https://localhost:8080/"
        },
        "id": "epdRoV13fxNO",
        "outputId": "9c3739c5-5796-4ff3-de2f-9e08d0afb5fd"
      },
      "execution_count": null,
      "outputs": [
        {
          "output_type": "execute_result",
          "data": {
            "text/plain": [
              "(6190,)"
            ]
          },
          "metadata": {},
          "execution_count": 7
        }
      ]
    },
    {
      "cell_type": "code",
      "source": [
        "import matplotlib.pyplot as plt\n",
        "\n",
        "# Create a range of numbers for the x-axis\n",
        "x_data = range(len(d1))\n",
        "\n",
        "# Plot the data\n",
        "plt.plot(x_data, d1)\n",
        "\n",
        "# Set the labels for the axes\n",
        "plt.xlabel(\"Data No.\")\n",
        "plt.ylabel(\"Price\")\n",
        "\n",
        "# Show the plot\n",
        "plt.show()"
      ],
      "metadata": {
        "colab": {
          "base_uri": "https://localhost:8080/",
          "height": 449
        },
        "id": "rrI0rIr2gYs8",
        "outputId": "078e9dba-7add-499a-d397-8b81dce48eec"
      },
      "execution_count": null,
      "outputs": [
        {
          "output_type": "display_data",
          "data": {
            "text/plain": [
              "<Figure size 640x480 with 1 Axes>"
            ],
            "image/png": "[encoded data removed]"
          },
          "metadata": {}
        }
      ]
    },
    {
      "cell_type": "code",
      "source": [
        "import numpy as np"
      ],
      "metadata": {
        "id": "s6QNTAyfEYlz"
      },
      "execution_count": null,
      "outputs": []
    },
    {
      "cell_type": "code",
      "source": [
        "from sklearn.preprocessing import MinMaxScaler\n",
        "scaler=MinMaxScaler(feature_range=(0,1))\n",
        "d1=scaler.fit_transform(np.array(d1).reshape(-1,1))"
      ],
      "metadata": {
        "id": "M-eiIjyfgrBV"
      },
      "execution_count": null,
      "outputs": []
    },
    {
      "cell_type": "code",
      "source": [
        "print(d1)"
      ],
      "metadata": {
        "colab": {
          "base_uri": "https://localhost:8080/"
        },
        "id": "GxxFetx6ieEi",
        "outputId": "2497c683-d74b-428d-d96b-6f8cc95ae040"
      },
      "execution_count": null,
      "outputs": [
        {
          "output_type": "stream",
          "name": "stdout",
          "text": [
            "[[0.26672763]\n",
            " [0.2632297 ]\n",
            " [0.26524718]\n",
            " ...\n",
            " [0.09924816]\n",
            " [0.09743389]\n",
            " [0.09361665]]\n"
          ]
        }
      ]
    },
    {
      "cell_type": "code",
      "source": [
        "train_s=int(len(d1)*0.7)\n",
        "test_s=len(d1)-train_s"
      ],
      "metadata": {
        "id": "6eR5_oAIih57"
      },
      "execution_count": null,
      "outputs": []
    },
    {
      "cell_type": "code",
      "source": [
        "train_s"
      ],
      "metadata": {
        "colab": {
          "base_uri": "https://localhost:8080/"
        },
        "id": "W8Yb0rgCp3W5",
        "outputId": "7dd383de-139d-446b-f542-20dfc19ff53f"
      },
      "execution_count": null,
      "outputs": [
        {
          "output_type": "execute_result",
          "data": {
            "text/plain": [
              "4333"
            ]
          },
          "metadata": {},
          "execution_count": 13
        }
      ]
    },
    {
      "cell_type": "code",
      "source": [
        "train_data,test_data=d1[0:train_s,:],d1[train_s:len(d1),:1]"
      ],
      "metadata": {
        "id": "XY25_iXqp6yj"
      },
      "execution_count": null,
      "outputs": []
    },
    {
      "cell_type": "code",
      "source": [
        "def create_dataset(dataset,time_step=1):\n",
        "  datax,datay=[],[]\n",
        "  for i in range(len(dataset)-time_step-1):\n",
        "    a=dataset[i:(i+time_step),0]\n",
        "    datax.append(a)\n",
        "    datay.append(dataset[i+time_step,0])\n",
        "  return np.array(datax),np.array(datay)"
      ],
      "metadata": {
        "id": "Gr2CZPRsqw3c"
      },
      "execution_count": null,
      "outputs": []
    },
    {
      "cell_type": "code",
      "source": [
        "time_split=100\n",
        "x_train,y_train=create_dataset(train_data,time_split)\n",
        "x_test,y_test=create_dataset(test_data,time_split)"
      ],
      "metadata": {
        "id": "mzbPdfIlFblc"
      },
      "execution_count": null,
      "outputs": []
    },
    {
      "cell_type": "code",
      "source": [
        "x_train.shape"
      ],
      "metadata": {
        "colab": {
          "base_uri": "https://localhost:8080/"
        },
        "id": "rwxJKqjsKh67",
        "outputId": "ea04489a-961a-4994-8a33-d6fececce459"
      },
      "execution_count": null,
      "outputs": [
        {
          "output_type": "execute_result",
          "data": {
            "text/plain": [
              "(4232, 100)"
            ]
          },
          "metadata": {},
          "execution_count": 17
        }
      ]
    },
    {
      "cell_type": "code",
      "source": [
        "y_train.shape"
      ],
      "metadata": {
        "colab": {
          "base_uri": "https://localhost:8080/"
        },
        "id": "zDNhrMVsLANx",
        "outputId": "206b0e30-916a-41ec-9941-703255e39b2c"
      },
      "execution_count": null,
      "outputs": [
        {
          "output_type": "execute_result",
          "data": {
            "text/plain": [
              "(4232,)"
            ]
          },
          "metadata": {},
          "execution_count": 18
        }
      ]
    },
    {
      "cell_type": "code",
      "source": [
        "x_train=x_train.reshape(x_train.shape[0],x_train.shape[1],1)\n",
        "x_test=x_test.reshape(x_test.shape[0],x_test.shape[1],1)"
      ],
      "metadata": {
        "id": "35PJ7diULCBr"
      },
      "execution_count": null,
      "outputs": []
    },
    {
      "cell_type": "code",
      "source": [
        "from keras.models import Sequential\n",
        "from keras.layers import Dense\n",
        "from keras.layers import LSTM"
      ],
      "metadata": {
        "id": "AiGQg3zeLjJl"
      },
      "execution_count": null,
      "outputs": []
    },
    {
      "cell_type": "code",
      "source": [
        "model=Sequential()\n",
        "model.add(LSTM(50,return_sequences=True,input_shape=(100,1)))\n",
        "model.add(LSTM(50,return_sequences=True))\n",
        "model.add(LSTM(50))\n",
        "model.add(Dense(1))\n",
        "model.compile(loss='mean_squared_error',optimizer='adam')"
      ],
      "metadata": {
        "id": "mLsl9i-aLxaZ"
      },
      "execution_count": null,
      "outputs": []
    },
    {
      "cell_type": "code",
      "source": [
        "model.fit(x_train,y_train,validation_data=(x_test,y_test),epochs=100,batch_size=64,verbose=1)"
      ],
      "metadata": {
        "colab": {
          "base_uri": "https://localhost:8080/"
        },
        "id": "-GpSkdmHMKPp",
        "outputId": "4296bb57-fb76-4612-fedb-0087289f293b"
      },
      "execution_count": null,
      "outputs": [
        {
          "output_type": "stream",
          "name": "stdout",
          "text": [
            "Epoch 1/100\n",
            "67/67 [==============================] - 13s 61ms/step - loss: 0.0076 - val_loss: 5.1287e-04\n",
            "Epoch 2/100\n",
            "67/67 [==============================] - 3s 41ms/step - loss: 0.0019 - val_loss: 2.7898e-04\n",
            "Epoch 3/100\n",
            "67/67 [==============================] - 3s 40ms/step - loss: 0.0016 - val_loss: 3.9025e-04\n",
            "Epoch 4/100\n",
            "67/67 [==============================] - 2s 34ms/step - loss: 0.0015 - val_loss: 2.7570e-04\n",
            "Epoch 5/100\n",
            "67/67 [==============================] - 2s 25ms/step - loss: 0.0013 - val_loss: 9.5150e-05\n",
            "Epoch 6/100\n",
            "67/67 [==============================] - 2s 31ms/step - loss: 0.0012 - val_loss: 1.7183e-04\n",
            "Epoch 7/100\n",
            "67/67 [==============================] - 2s 32ms/step - loss: 0.0011 - val_loss: 9.7202e-05\n",
            "Epoch 8/100\n",
            "67/67 [==============================] - 1s 16ms/step - loss: 0.0010 - val_loss: 1.2137e-04\n",
            "Epoch 9/100\n",
            "67/67 [==============================] - 1s 19ms/step - loss: 9.3494e-04 - val_loss: 3.2165e-04\n",
            "Epoch 10/100\n",
            "67/67 [==============================] - 2s 23ms/step - loss: 8.5589e-04 - val_loss: 1.2863e-04\n",
            "Epoch 11/100\n",
            "67/67 [==============================] - 1s 20ms/step - loss: 7.1801e-04 - val_loss: 1.9436e-04\n",
            "Epoch 12/100\n",
            "67/67 [==============================] - 1s 16ms/step - loss: 6.5845e-04 - val_loss: 1.6304e-04\n",
            "Epoch 13/100\n",
            "67/67 [==============================] - 1s 16ms/step - loss: 6.7018e-04 - val_loss: 2.0925e-04\n",
            "Epoch 14/100\n",
            "67/67 [==============================] - 1s 15ms/step - loss: 6.1708e-04 - val_loss: 2.7500e-04\n",
            "Epoch 15/100\n",
            "67/67 [==============================] - 1s 16ms/step - loss: 6.2488e-04 - val_loss: 8.7324e-05\n",
            "Epoch 16/100\n",
            "67/67 [==============================] - 1s 16ms/step - loss: 5.6155e-04 - val_loss: 1.2053e-04\n",
            "Epoch 17/100\n",
            "67/67 [==============================] - 1s 15ms/step - loss: 5.1344e-04 - val_loss: 1.3478e-04\n",
            "Epoch 18/100\n",
            "67/67 [==============================] - 1s 16ms/step - loss: 5.0091e-04 - val_loss: 5.0203e-05\n",
            "Epoch 19/100\n",
            "67/67 [==============================] - 1s 16ms/step - loss: 4.8427e-04 - val_loss: 1.7186e-04\n",
            "Epoch 20/100\n",
            "67/67 [==============================] - 1s 16ms/step - loss: 4.6193e-04 - val_loss: 1.9175e-04\n",
            "Epoch 21/100\n",
            "67/67 [==============================] - 1s 22ms/step - loss: 4.8002e-04 - val_loss: 6.0808e-05\n",
            "Epoch 22/100\n",
            "67/67 [==============================] - 2s 22ms/step - loss: 4.4661e-04 - val_loss: 8.3455e-05\n",
            "Epoch 23/100\n",
            "67/67 [==============================] - 1s 15ms/step - loss: 4.4243e-04 - val_loss: 1.9591e-04\n",
            "Epoch 24/100\n",
            "67/67 [==============================] - 1s 15ms/step - loss: 4.2720e-04 - val_loss: 1.0618e-04\n",
            "Epoch 25/100\n",
            "67/67 [==============================] - 1s 16ms/step - loss: 3.8399e-04 - val_loss: 8.6152e-05\n",
            "Epoch 26/100\n",
            "67/67 [==============================] - 1s 15ms/step - loss: 3.9211e-04 - val_loss: 2.5174e-05\n",
            "Epoch 27/100\n",
            "67/67 [==============================] - 1s 15ms/step - loss: 4.1439e-04 - val_loss: 2.0516e-04\n",
            "Epoch 28/100\n",
            "67/67 [==============================] - 1s 16ms/step - loss: 3.7920e-04 - val_loss: 1.7786e-04\n",
            "Epoch 29/100\n",
            "67/67 [==============================] - 1s 16ms/step - loss: 3.5808e-04 - val_loss: 2.6071e-05\n",
            "Epoch 30/100\n",
            "67/67 [==============================] - 1s 16ms/step - loss: 3.7856e-04 - val_loss: 9.3868e-05\n",
            "Epoch 31/100\n",
            "67/67 [==============================] - 1s 15ms/step - loss: 3.2748e-04 - val_loss: 2.4279e-05\n",
            "Epoch 32/100\n",
            "67/67 [==============================] - 1s 19ms/step - loss: 3.4330e-04 - val_loss: 3.5503e-05\n",
            "Epoch 33/100\n",
            "67/67 [==============================] - 2s 23ms/step - loss: 3.2330e-04 - val_loss: 7.6795e-05\n",
            "Epoch 34/100\n",
            "67/67 [==============================] - 2s 25ms/step - loss: 3.2407e-04 - val_loss: 1.7662e-05\n",
            "Epoch 35/100\n",
            "67/67 [==============================] - 1s 16ms/step - loss: 3.3551e-04 - val_loss: 5.5562e-05\n",
            "Epoch 36/100\n",
            "67/67 [==============================] - 1s 16ms/step - loss: 3.2347e-04 - val_loss: 2.9062e-05\n",
            "Epoch 37/100\n",
            "67/67 [==============================] - 1s 15ms/step - loss: 2.9390e-04 - val_loss: 2.1197e-04\n",
            "Epoch 38/100\n",
            "67/67 [==============================] - 1s 15ms/step - loss: 3.2973e-04 - val_loss: 3.4933e-05\n",
            "Epoch 39/100\n",
            "67/67 [==============================] - 1s 15ms/step - loss: 3.5494e-04 - val_loss: 2.0332e-05\n",
            "Epoch 40/100\n",
            "67/67 [==============================] - 1s 15ms/step - loss: 3.0813e-04 - val_loss: 1.6211e-05\n",
            "Epoch 41/100\n",
            "67/67 [==============================] - 1s 15ms/step - loss: 3.1784e-04 - val_loss: 2.0236e-05\n",
            "Epoch 42/100\n",
            "67/67 [==============================] - 1s 15ms/step - loss: 3.1347e-04 - val_loss: 4.1696e-05\n",
            "Epoch 43/100\n",
            "67/67 [==============================] - 1s 16ms/step - loss: 3.1079e-04 - val_loss: 6.8299e-05\n",
            "Epoch 44/100\n",
            "67/67 [==============================] - 1s 21ms/step - loss: 3.2885e-04 - val_loss: 3.9736e-05\n",
            "Epoch 45/100\n",
            "67/67 [==============================] - 2s 23ms/step - loss: 3.3018e-04 - val_loss: 9.1986e-05\n",
            "Epoch 46/100\n",
            "67/67 [==============================] - 1s 16ms/step - loss: 2.9604e-04 - val_loss: 6.8781e-05\n",
            "Epoch 47/100\n",
            "67/67 [==============================] - 1s 15ms/step - loss: 3.0970e-04 - val_loss: 3.7820e-05\n",
            "Epoch 48/100\n",
            "67/67 [==============================] - 1s 16ms/step - loss: 3.1859e-04 - val_loss: 3.2422e-05\n",
            "Epoch 49/100\n",
            "67/67 [==============================] - 1s 16ms/step - loss: 2.9771e-04 - val_loss: 6.4914e-05\n",
            "Epoch 50/100\n",
            "67/67 [==============================] - 1s 15ms/step - loss: 2.9187e-04 - val_loss: 1.6882e-05\n",
            "Epoch 51/100\n",
            "67/67 [==============================] - 1s 15ms/step - loss: 2.8955e-04 - val_loss: 2.3444e-05\n",
            "Epoch 52/100\n",
            "67/67 [==============================] - 1s 15ms/step - loss: 3.1604e-04 - val_loss: 1.2586e-04\n",
            "Epoch 53/100\n",
            "67/67 [==============================] - 1s 16ms/step - loss: 3.0451e-04 - val_loss: 4.8647e-05\n",
            "Epoch 54/100\n",
            "67/67 [==============================] - 1s 15ms/step - loss: 3.4027e-04 - val_loss: 4.2794e-05\n",
            "Epoch 55/100\n",
            "67/67 [==============================] - 1s 18ms/step - loss: 3.1099e-04 - val_loss: 2.9168e-05\n",
            "Epoch 56/100\n",
            "67/67 [==============================] - 1s 22ms/step - loss: 2.9493e-04 - val_loss: 3.7829e-05\n",
            "Epoch 57/100\n",
            "67/67 [==============================] - 1s 20ms/step - loss: 2.8486e-04 - val_loss: 5.7171e-05\n",
            "Epoch 58/100\n",
            "67/67 [==============================] - 1s 16ms/step - loss: 2.8946e-04 - val_loss: 1.7194e-04\n",
            "Epoch 59/100\n",
            "67/67 [==============================] - 1s 16ms/step - loss: 2.9734e-04 - val_loss: 1.4180e-04\n",
            "Epoch 60/100\n",
            "67/67 [==============================] - 1s 16ms/step - loss: 2.8947e-04 - val_loss: 9.1856e-05\n",
            "Epoch 61/100\n",
            "67/67 [==============================] - 1s 16ms/step - loss: 2.8941e-04 - val_loss: 1.5291e-05\n",
            "Epoch 62/100\n",
            "67/67 [==============================] - 1s 16ms/step - loss: 2.9976e-04 - val_loss: 7.6182e-05\n",
            "Epoch 63/100\n",
            "67/67 [==============================] - 1s 16ms/step - loss: 2.8843e-04 - val_loss: 6.3424e-05\n",
            "Epoch 64/100\n",
            "67/67 [==============================] - 1s 16ms/step - loss: 3.1930e-04 - val_loss: 5.8677e-05\n",
            "Epoch 65/100\n",
            "67/67 [==============================] - 1s 15ms/step - loss: 2.8768e-04 - val_loss: 8.5112e-05\n",
            "Epoch 66/100\n",
            "67/67 [==============================] - 1s 16ms/step - loss: 2.8566e-04 - val_loss: 1.1921e-04\n",
            "Epoch 67/100\n",
            "67/67 [==============================] - 1s 21ms/step - loss: 2.9167e-04 - val_loss: 1.8234e-05\n",
            "Epoch 68/100\n",
            "67/67 [==============================] - 1s 22ms/step - loss: 2.9766e-04 - val_loss: 4.0239e-05\n",
            "Epoch 69/100\n",
            "67/67 [==============================] - 1s 17ms/step - loss: 3.0824e-04 - val_loss: 7.2638e-05\n",
            "Epoch 70/100\n",
            "67/67 [==============================] - 1s 16ms/step - loss: 3.0192e-04 - val_loss: 3.2429e-05\n",
            "Epoch 71/100\n",
            "67/67 [==============================] - 1s 22ms/step - loss: 3.2602e-04 - val_loss: 4.3547e-05\n",
            "Epoch 72/100\n",
            "67/67 [==============================] - 1s 21ms/step - loss: 2.8844e-04 - val_loss: 7.8615e-05\n",
            "Epoch 73/100\n",
            "67/67 [==============================] - 1s 16ms/step - loss: 3.0988e-04 - val_loss: 4.6275e-05\n",
            "Epoch 74/100\n",
            "67/67 [==============================] - 1s 15ms/step - loss: 2.9855e-04 - val_loss: 2.2813e-05\n",
            "Epoch 75/100\n",
            "67/67 [==============================] - 1s 15ms/step - loss: 2.9879e-04 - val_loss: 6.1008e-05\n",
            "Epoch 76/100\n",
            "67/67 [==============================] - 1s 15ms/step - loss: 2.8702e-04 - val_loss: 4.4802e-05\n",
            "Epoch 77/100\n",
            "67/67 [==============================] - 1s 16ms/step - loss: 2.9012e-04 - val_loss: 2.7655e-05\n",
            "Epoch 78/100\n",
            "67/67 [==============================] - 1s 20ms/step - loss: 3.0147e-04 - val_loss: 5.4539e-05\n",
            "Epoch 79/100\n",
            "67/67 [==============================] - 1s 21ms/step - loss: 2.9353e-04 - val_loss: 1.6988e-04\n",
            "Epoch 80/100\n",
            "67/67 [==============================] - 1s 18ms/step - loss: 2.9513e-04 - val_loss: 1.3408e-04\n",
            "Epoch 81/100\n",
            "67/67 [==============================] - 1s 15ms/step - loss: 2.8659e-04 - val_loss: 7.4506e-05\n",
            "Epoch 82/100\n",
            "67/67 [==============================] - 1s 15ms/step - loss: 2.8750e-04 - val_loss: 2.3809e-05\n",
            "Epoch 83/100\n",
            "67/67 [==============================] - 1s 15ms/step - loss: 2.9415e-04 - val_loss: 3.6384e-05\n",
            "Epoch 84/100\n",
            "67/67 [==============================] - 1s 15ms/step - loss: 2.9722e-04 - val_loss: 6.1925e-05\n",
            "Epoch 85/100\n",
            "67/67 [==============================] - 1s 15ms/step - loss: 2.8559e-04 - val_loss: 4.4373e-05\n",
            "Epoch 86/100\n",
            "67/67 [==============================] - 1s 15ms/step - loss: 3.0167e-04 - val_loss: 3.7797e-05\n",
            "Epoch 87/100\n",
            "67/67 [==============================] - 1s 18ms/step - loss: 2.8544e-04 - val_loss: 2.5306e-05\n",
            "Epoch 88/100\n",
            "67/67 [==============================] - 1s 15ms/step - loss: 2.8955e-04 - val_loss: 3.4822e-05\n",
            "Epoch 89/100\n",
            "67/67 [==============================] - 1s 15ms/step - loss: 2.8683e-04 - val_loss: 1.3284e-04\n",
            "Epoch 90/100\n",
            "67/67 [==============================] - 1s 21ms/step - loss: 3.1174e-04 - val_loss: 2.8856e-05\n",
            "Epoch 91/100\n",
            "67/67 [==============================] - 1s 21ms/step - loss: 2.8420e-04 - val_loss: 1.4824e-05\n",
            "Epoch 92/100\n",
            "67/67 [==============================] - 1s 16ms/step - loss: 2.9635e-04 - val_loss: 2.3847e-04\n",
            "Epoch 93/100\n",
            "67/67 [==============================] - 1s 16ms/step - loss: 3.2052e-04 - val_loss: 2.7147e-05\n",
            "Epoch 94/100\n",
            "67/67 [==============================] - 1s 16ms/step - loss: 2.8567e-04 - val_loss: 2.7236e-05\n",
            "Epoch 95/100\n",
            "67/67 [==============================] - 2s 24ms/step - loss: 3.0402e-04 - val_loss: 3.8388e-05\n",
            "Epoch 96/100\n",
            "67/67 [==============================] - 2s 28ms/step - loss: 2.9465e-04 - val_loss: 2.0312e-04\n",
            "Epoch 97/100\n",
            "67/67 [==============================] - 2s 23ms/step - loss: 3.1194e-04 - val_loss: 2.7598e-05\n",
            "Epoch 98/100\n",
            "67/67 [==============================] - 2s 27ms/step - loss: 2.8575e-04 - val_loss: 1.2943e-04\n",
            "Epoch 99/100\n",
            "67/67 [==============================] - 2s 32ms/step - loss: 3.0297e-04 - val_loss: 7.1385e-05\n",
            "Epoch 100/100\n",
            "67/67 [==============================] - 2s 37ms/step - loss: 2.9516e-04 - val_loss: 5.3534e-05\n"
          ]
        },
        {
          "output_type": "execute_result",
          "data": {
            "text/plain": [
              "<keras.src.callbacks.History at 0x7e4361599420>"
            ]
          },
          "metadata": {},
          "execution_count": 22
        }
      ]
    },
    {
      "cell_type": "code",
      "source": [
        "trainpre=model.predict(x_train)\n",
        "testpre=model.predict(x_test)"
      ],
      "metadata": {
        "colab": {
          "base_uri": "https://localhost:8080/"
        },
        "id": "6lnLdcdPMsbw",
        "outputId": "0d141b36-edf3-4d04-9804-7640e51de741"
      },
      "execution_count": null,
      "outputs": [
        {
          "output_type": "stream",
          "name": "stdout",
          "text": [
            "133/133 [==============================] - 3s 7ms/step\n",
            "55/55 [==============================] - 0s 5ms/step\n"
          ]
        }
      ]
    },
    {
      "cell_type": "code",
      "source": [
        "trainpre=scaler.inverse_transform(trainpre)\n",
        "testpre=scaler.inverse_transform(testpre)"
      ],
      "metadata": {
        "id": "6BkKNlovP8r0"
      },
      "execution_count": null,
      "outputs": []
    },
    {
      "cell_type": "code",
      "source": [
        "import math\n",
        "from sklearn.metrics import mean_squared_error\n",
        "math.sqrt(mean_squared_error(y_test,testpre))"
      ],
      "metadata": {
        "colab": {
          "base_uri": "https://localhost:8080/"
        },
        "id": "gJgzh7wlQLBy",
        "outputId": "8103202d-ac9a-46ac-8b08-57410cf9e86c"
      },
      "execution_count": null,
      "outputs": [
        {
          "output_type": "execute_result",
          "data": {
            "text/plain": [
              "53.04210672474869"
            ]
          },
          "metadata": {},
          "execution_count": 25
        }
      ]
    },
    {
      "cell_type": "code",
      "source": [
        "#plot the predicted\n",
        "look_back=100\n",
        "trainPredictPlot = np.empty_like(d1)\n",
        "trainPredictPlot[:, :] = np.nan\n",
        "trainPredictPlot[look_back:len(trainpre)+look_back, :] = trainpre\n",
        "# shift test predictions for plotting\n",
        "testPredictPlot = np.empty_like(d1)\n",
        "testPredictPlot[:, :] = np.nan\n",
        "testPredictPlot[len(trainpre)+(look_back*2)+1:len(d1)-1, :] = testpre\n",
        "# plot baseline and predictions\n",
        "plt.plot(scaler.inverse_transform(d1))\n",
        "plt.plot(trainPredictPlot)\n",
        "plt.plot(testPredictPlot)\n",
        "plt.show()"
      ],
      "metadata": {
        "colab": {
          "base_uri": "https://localhost:8080/",
          "height": 430
        },
        "id": "lWR9UALkQR4U",
        "outputId": "4cd74c21-f6fa-4e80-a219-0d0349c583b2"
      },
      "execution_count": null,
      "outputs": [
        {
          "output_type": "display_data",
          "data": {
            "text/plain": [
              "<Figure size 640x480 with 1 Axes>"
            ],
            "image/png": "[encoded data removed]"
          },
          "metadata": {}
        }
      ]
    },
    {
      "cell_type": "code",
      "source": [
        "len(test_data)"
      ],
      "metadata": {
        "colab": {
          "base_uri": "https://localhost:8080/"
        },
        "id": "HWfrLzlySpLX",
        "outputId": "8fb5d28b-5ba6-4792-b645-3683910f7218"
      },
      "execution_count": null,
      "outputs": [
        {
          "output_type": "execute_result",
          "data": {
            "text/plain": [
              "1857"
            ]
          },
          "metadata": {},
          "execution_count": 27
        }
      ]
    },
    {
      "cell_type": "code",
      "source": [
        "x_input=test_data[1757:].reshape(1,-1)\n",
        "x_input.shape"
      ],
      "metadata": {
        "colab": {
          "base_uri": "https://localhost:8080/"
        },
        "id": "J43gdiVRTNkx",
        "outputId": "a7bee58e-d3db-4dab-ae3d-04fca371d616"
      },
      "execution_count": null,
      "outputs": [
        {
          "output_type": "execute_result",
          "data": {
            "text/plain": [
              "(1, 100)"
            ]
          },
          "metadata": {},
          "execution_count": 36
        }
      ]
    },
    {
      "cell_type": "code",
      "source": [
        "temp_input=list(x_input)\n",
        "temp_input=temp_input[0].tolist()"
      ],
      "metadata": {
        "id": "xN8ATB9VTWbI"
      },
      "execution_count": null,
      "outputs": []
    },
    {
      "cell_type": "code",
      "source": [
        "from numpy import array\n",
        "\n",
        "lst_output=[]\n",
        "n_steps=100\n",
        "i=0\n",
        "while(i<30):\n",
        "\n",
        "    if(len(temp_input)>100):\n",
        "        #print(temp_input)\n",
        "        x_input=np.array(temp_input[1:])\n",
        "        print(\"{} day input {}\".format(i,x_input))\n",
        "        x_input=x_input.reshape(1,-1)\n",
        "        x_input = x_input.reshape((1, n_steps, 1))\n",
        "        #print(x_input)\n",
        "        yhat = model.predict(x_input, verbose=0)\n",
        "        print(\"{} day output {}\".format(i,yhat))\n",
        "        temp_input.extend(yhat[0].tolist())\n",
        "        temp_input=temp_input[1:]\n",
        "        #print(temp_input)\n",
        "        lst_output.extend(yhat.tolist())\n",
        "        i=i+1\n",
        "    else:\n",
        "        x_input = x_input.reshape((1, n_steps,1))\n",
        "        yhat = model.predict(x_input, verbose=0)\n",
        "        print(yhat[0])\n",
        "        temp_input.extend(yhat[0].tolist())\n",
        "        print(len(temp_input))\n",
        "        lst_output.extend(yhat.tolist())\n",
        "        i=i+1\n",
        "\n",
        "\n"
      ],
      "metadata": {
        "id": "45U6jQjrThjt",
        "colab": {
          "base_uri": "https://localhost:8080/"
        },
        "outputId": "a99b4757-386b-441c-b078-32ed051f5972"
      },
      "execution_count": null,
      "outputs": [
        {
          "output_type": "stream",
          "name": "stdout",
          "text": [
            "[0.09666967]\n",
            "101\n",
            "1 day input [0.19023774 0.1768121  0.15948213 0.16238497 0.15739209 0.14968504\n",
            " 0.1467822  0.15702923 0.16347354 0.15839357 0.15803071 0.15929345\n",
            " 0.16338646 0.16673924 0.15803071 0.17009202 0.14731923 0.14533078\n",
            " 0.14115069 0.14816105 0.14968504 0.14614357 0.14242794 0.14768208\n",
            " 0.14659352 0.15367645 0.14904642 0.13879938 0.14569363 0.14441638\n",
            " 0.14768208 0.14650643 0.13771082 0.13090365 0.12437226 0.12646231\n",
            " 0.13154228 0.12845075 0.14061366 0.14088943 0.14387936 0.13517083\n",
            " 0.14251502 0.14569363 0.13562077 0.13181805 0.12673808 0.12138233\n",
            " 0.10750675 0.11557665 0.12283375 0.12537374 0.11884235 0.13190514\n",
            " 0.129728   0.14342942 0.13017794 0.12654939 0.12710093 0.12347238\n",
            " 0.12509797 0.13117942 0.12601237 0.129728   0.12319661 0.12609945\n",
            " 0.12364655 0.12174519 0.11865366 0.12464803 0.13045371 0.13371941\n",
            " 0.14070075 0.15194926 0.14932219 0.14787077 0.14088943 0.1305408\n",
            " 0.12300792 0.11820372 0.11892943 0.11839241 0.11566373 0.11248512\n",
            " 0.11512671 0.1110337  0.1119481  0.11331243 0.11077245 0.11248512\n",
            " 0.11485094 0.11367529 0.1110337  0.12083079 0.10913234 0.10232518\n",
            " 0.09924816 0.09743389 0.09361665 0.09666967]\n",
            "1 day output [[0.09731211]]\n",
            "2 day input [0.1768121  0.15948213 0.16238497 0.15739209 0.14968504 0.1467822\n",
            " 0.15702923 0.16347354 0.15839357 0.15803071 0.15929345 0.16338646\n",
            " 0.16673924 0.15803071 0.17009202 0.14731923 0.14533078 0.14115069\n",
            " 0.14816105 0.14968504 0.14614357 0.14242794 0.14768208 0.14659352\n",
            " 0.15367645 0.14904642 0.13879938 0.14569363 0.14441638 0.14768208\n",
            " 0.14650643 0.13771082 0.13090365 0.12437226 0.12646231 0.13154228\n",
            " 0.12845075 0.14061366 0.14088943 0.14387936 0.13517083 0.14251502\n",
            " 0.14569363 0.13562077 0.13181805 0.12673808 0.12138233 0.10750675\n",
            " 0.11557665 0.12283375 0.12537374 0.11884235 0.13190514 0.129728\n",
            " 0.14342942 0.13017794 0.12654939 0.12710093 0.12347238 0.12509797\n",
            " 0.13117942 0.12601237 0.129728   0.12319661 0.12609945 0.12364655\n",
            " 0.12174519 0.11865366 0.12464803 0.13045371 0.13371941 0.14070075\n",
            " 0.15194926 0.14932219 0.14787077 0.14088943 0.1305408  0.12300792\n",
            " 0.11820372 0.11892943 0.11839241 0.11566373 0.11248512 0.11512671\n",
            " 0.1110337  0.1119481  0.11331243 0.11077245 0.11248512 0.11485094\n",
            " 0.11367529 0.1110337  0.12083079 0.10913234 0.10232518 0.09924816\n",
            " 0.09743389 0.09361665 0.09666967 0.09731211]\n",
            "2 day output [[0.09881018]]\n",
            "3 day input [0.15948213 0.16238497 0.15739209 0.14968504 0.1467822  0.15702923\n",
            " 0.16347354 0.15839357 0.15803071 0.15929345 0.16338646 0.16673924\n",
            " 0.15803071 0.17009202 0.14731923 0.14533078 0.14115069 0.14816105\n",
            " 0.14968504 0.14614357 0.14242794 0.14768208 0.14659352 0.15367645\n",
            " 0.14904642 0.13879938 0.14569363 0.14441638 0.14768208 0.14650643\n",
            " 0.13771082 0.13090365 0.12437226 0.12646231 0.13154228 0.12845075\n",
            " 0.14061366 0.14088943 0.14387936 0.13517083 0.14251502 0.14569363\n",
            " 0.13562077 0.13181805 0.12673808 0.12138233 0.10750675 0.11557665\n",
            " 0.12283375 0.12537374 0.11884235 0.13190514 0.129728   0.14342942\n",
            " 0.13017794 0.12654939 0.12710093 0.12347238 0.12509797 0.13117942\n",
            " 0.12601237 0.129728   0.12319661 0.12609945 0.12364655 0.12174519\n",
            " 0.11865366 0.12464803 0.13045371 0.13371941 0.14070075 0.15194926\n",
            " 0.14932219 0.14787077 0.14088943 0.1305408  0.12300792 0.11820372\n",
            " 0.11892943 0.11839241 0.11566373 0.11248512 0.11512671 0.1110337\n",
            " 0.1119481  0.11331243 0.11077245 0.11248512 0.11485094 0.11367529\n",
            " 0.1110337  0.12083079 0.10913234 0.10232518 0.09924816 0.09743389\n",
            " 0.09361665 0.09666967 0.09731211 0.09881018]\n",
            "3 day output [[0.10066244]]\n",
            "4 day input [0.16238497 0.15739209 0.14968504 0.1467822  0.15702923 0.16347354\n",
            " 0.15839357 0.15803071 0.15929345 0.16338646 0.16673924 0.15803071\n",
            " 0.17009202 0.14731923 0.14533078 0.14115069 0.14816105 0.14968504\n",
            " 0.14614357 0.14242794 0.14768208 0.14659352 0.15367645 0.14904642\n",
            " 0.13879938 0.14569363 0.14441638 0.14768208 0.14650643 0.13771082\n",
            " 0.13090365 0.12437226 0.12646231 0.13154228 0.12845075 0.14061366\n",
            " 0.14088943 0.14387936 0.13517083 0.14251502 0.14569363 0.13562077\n",
            " 0.13181805 0.12673808 0.12138233 0.10750675 0.11557665 0.12283375\n",
            " 0.12537374 0.11884235 0.13190514 0.129728   0.14342942 0.13017794\n",
            " 0.12654939 0.12710093 0.12347238 0.12509797 0.13117942 0.12601237\n",
            " 0.129728   0.12319661 0.12609945 0.12364655 0.12174519 0.11865366\n",
            " 0.12464803 0.13045371 0.13371941 0.14070075 0.15194926 0.14932219\n",
            " 0.14787077 0.14088943 0.1305408  0.12300792 0.11820372 0.11892943\n",
            " 0.11839241 0.11566373 0.11248512 0.11512671 0.1110337  0.1119481\n",
            " 0.11331243 0.11077245 0.11248512 0.11485094 0.11367529 0.1110337\n",
            " 0.12083079 0.10913234 0.10232518 0.09924816 0.09743389 0.09361665\n",
            " 0.09666967 0.09731211 0.09881018 0.10066244]\n",
            "4 day output [[0.10274528]]\n",
            "5 day input [0.15739209 0.14968504 0.1467822  0.15702923 0.16347354 0.15839357\n",
            " 0.15803071 0.15929345 0.16338646 0.16673924 0.15803071 0.17009202\n",
            " 0.14731923 0.14533078 0.14115069 0.14816105 0.14968504 0.14614357\n",
            " 0.14242794 0.14768208 0.14659352 0.15367645 0.14904642 0.13879938\n",
            " 0.14569363 0.14441638 0.14768208 0.14650643 0.13771082 0.13090365\n",
            " 0.12437226 0.12646231 0.13154228 0.12845075 0.14061366 0.14088943\n",
            " 0.14387936 0.13517083 0.14251502 0.14569363 0.13562077 0.13181805\n",
            " 0.12673808 0.12138233 0.10750675 0.11557665 0.12283375 0.12537374\n",
            " 0.11884235 0.13190514 0.129728   0.14342942 0.13017794 0.12654939\n",
            " 0.12710093 0.12347238 0.12509797 0.13117942 0.12601237 0.129728\n",
            " 0.12319661 0.12609945 0.12364655 0.12174519 0.11865366 0.12464803\n",
            " 0.13045371 0.13371941 0.14070075 0.15194926 0.14932219 0.14787077\n",
            " 0.14088943 0.1305408  0.12300792 0.11820372 0.11892943 0.11839241\n",
            " 0.11566373 0.11248512 0.11512671 0.1110337  0.1119481  0.11331243\n",
            " 0.11077245 0.11248512 0.11485094 0.11367529 0.1110337  0.12083079\n",
            " 0.10913234 0.10232518 0.09924816 0.09743389 0.09361665 0.09666967\n",
            " 0.09731211 0.09881018 0.10066244 0.10274528]\n",
            "5 day output [[0.10498324]]\n",
            "6 day input [0.14968504 0.1467822  0.15702923 0.16347354 0.15839357 0.15803071\n",
            " 0.15929345 0.16338646 0.16673924 0.15803071 0.17009202 0.14731923\n",
            " 0.14533078 0.14115069 0.14816105 0.14968504 0.14614357 0.14242794\n",
            " 0.14768208 0.14659352 0.15367645 0.14904642 0.13879938 0.14569363\n",
            " 0.14441638 0.14768208 0.14650643 0.13771082 0.13090365 0.12437226\n",
            " 0.12646231 0.13154228 0.12845075 0.14061366 0.14088943 0.14387936\n",
            " 0.13517083 0.14251502 0.14569363 0.13562077 0.13181805 0.12673808\n",
            " 0.12138233 0.10750675 0.11557665 0.12283375 0.12537374 0.11884235\n",
            " 0.13190514 0.129728   0.14342942 0.13017794 0.12654939 0.12710093\n",
            " 0.12347238 0.12509797 0.13117942 0.12601237 0.129728   0.12319661\n",
            " 0.12609945 0.12364655 0.12174519 0.11865366 0.12464803 0.13045371\n",
            " 0.13371941 0.14070075 0.15194926 0.14932219 0.14787077 0.14088943\n",
            " 0.1305408  0.12300792 0.11820372 0.11892943 0.11839241 0.11566373\n",
            " 0.11248512 0.11512671 0.1110337  0.1119481  0.11331243 0.11077245\n",
            " 0.11248512 0.11485094 0.11367529 0.1110337  0.12083079 0.10913234\n",
            " 0.10232518 0.09924816 0.09743389 0.09361665 0.09666967 0.09731211\n",
            " 0.09881018 0.10066244 0.10274528 0.10498324]\n",
            "6 day output [[0.10732251]]\n",
            "7 day input [0.1467822  0.15702923 0.16347354 0.15839357 0.15803071 0.15929345\n",
            " 0.16338646 0.16673924 0.15803071 0.17009202 0.14731923 0.14533078\n",
            " 0.14115069 0.14816105 0.14968504 0.14614357 0.14242794 0.14768208\n",
            " 0.14659352 0.15367645 0.14904642 0.13879938 0.14569363 0.14441638\n",
            " 0.14768208 0.14650643 0.13771082 0.13090365 0.12437226 0.12646231\n",
            " 0.13154228 0.12845075 0.14061366 0.14088943 0.14387936 0.13517083\n",
            " 0.14251502 0.14569363 0.13562077 0.13181805 0.12673808 0.12138233\n",
            " 0.10750675 0.11557665 0.12283375 0.12537374 0.11884235 0.13190514\n",
            " 0.129728   0.14342942 0.13017794 0.12654939 0.12710093 0.12347238\n",
            " 0.12509797 0.13117942 0.12601237 0.129728   0.12319661 0.12609945\n",
            " 0.12364655 0.12174519 0.11865366 0.12464803 0.13045371 0.13371941\n",
            " 0.14070075 0.15194926 0.14932219 0.14787077 0.14088943 0.1305408\n",
            " 0.12300792 0.11820372 0.11892943 0.11839241 0.11566373 0.11248512\n",
            " 0.11512671 0.1110337  0.1119481  0.11331243 0.11077245 0.11248512\n",
            " 0.11485094 0.11367529 0.1110337  0.12083079 0.10913234 0.10232518\n",
            " 0.09924816 0.09743389 0.09361665 0.09666967 0.09731211 0.09881018\n",
            " 0.10066244 0.10274528 0.10498324 0.10732251]\n",
            "7 day output [[0.10972595]]\n",
            "8 day input [0.15702923 0.16347354 0.15839357 0.15803071 0.15929345 0.16338646\n",
            " 0.16673924 0.15803071 0.17009202 0.14731923 0.14533078 0.14115069\n",
            " 0.14816105 0.14968504 0.14614357 0.14242794 0.14768208 0.14659352\n",
            " 0.15367645 0.14904642 0.13879938 0.14569363 0.14441638 0.14768208\n",
            " 0.14650643 0.13771082 0.13090365 0.12437226 0.12646231 0.13154228\n",
            " 0.12845075 0.14061366 0.14088943 0.14387936 0.13517083 0.14251502\n",
            " 0.14569363 0.13562077 0.13181805 0.12673808 0.12138233 0.10750675\n",
            " 0.11557665 0.12283375 0.12537374 0.11884235 0.13190514 0.129728\n",
            " 0.14342942 0.13017794 0.12654939 0.12710093 0.12347238 0.12509797\n",
            " 0.13117942 0.12601237 0.129728   0.12319661 0.12609945 0.12364655\n",
            " 0.12174519 0.11865366 0.12464803 0.13045371 0.13371941 0.14070075\n",
            " 0.15194926 0.14932219 0.14787077 0.14088943 0.1305408  0.12300792\n",
            " 0.11820372 0.11892943 0.11839241 0.11566373 0.11248512 0.11512671\n",
            " 0.1110337  0.1119481  0.11331243 0.11077245 0.11248512 0.11485094\n",
            " 0.11367529 0.1110337  0.12083079 0.10913234 0.10232518 0.09924816\n",
            " 0.09743389 0.09361665 0.09666967 0.09731211 0.09881018 0.10066244\n",
            " 0.10274528 0.10498324 0.10732251 0.10972595]\n",
            "8 day output [[0.11216836]]\n",
            "9 day input [0.16347354 0.15839357 0.15803071 0.15929345 0.16338646 0.16673924\n",
            " 0.15803071 0.17009202 0.14731923 0.14533078 0.14115069 0.14816105\n",
            " 0.14968504 0.14614357 0.14242794 0.14768208 0.14659352 0.15367645\n",
            " 0.14904642 0.13879938 0.14569363 0.14441638 0.14768208 0.14650643\n",
            " 0.13771082 0.13090365 0.12437226 0.12646231 0.13154228 0.12845075\n",
            " 0.14061366 0.14088943 0.14387936 0.13517083 0.14251502 0.14569363\n",
            " 0.13562077 0.13181805 0.12673808 0.12138233 0.10750675 0.11557665\n",
            " 0.12283375 0.12537374 0.11884235 0.13190514 0.129728   0.14342942\n",
            " 0.13017794 0.12654939 0.12710093 0.12347238 0.12509797 0.13117942\n",
            " 0.12601237 0.129728   0.12319661 0.12609945 0.12364655 0.12174519\n",
            " 0.11865366 0.12464803 0.13045371 0.13371941 0.14070075 0.15194926\n",
            " 0.14932219 0.14787077 0.14088943 0.1305408  0.12300792 0.11820372\n",
            " 0.11892943 0.11839241 0.11566373 0.11248512 0.11512671 0.1110337\n",
            " 0.1119481  0.11331243 0.11077245 0.11248512 0.11485094 0.11367529\n",
            " 0.1110337  0.12083079 0.10913234 0.10232518 0.09924816 0.09743389\n",
            " 0.09361665 0.09666967 0.09731211 0.09881018 0.10066244 0.10274528\n",
            " 0.10498324 0.10732251 0.10972595 0.11216836]\n",
            "9 day output [[0.11463217]]\n",
            "10 day input [0.15839357 0.15803071 0.15929345 0.16338646 0.16673924 0.15803071\n",
            " 0.17009202 0.14731923 0.14533078 0.14115069 0.14816105 0.14968504\n",
            " 0.14614357 0.14242794 0.14768208 0.14659352 0.15367645 0.14904642\n",
            " 0.13879938 0.14569363 0.14441638 0.14768208 0.14650643 0.13771082\n",
            " 0.13090365 0.12437226 0.12646231 0.13154228 0.12845075 0.14061366\n",
            " 0.14088943 0.14387936 0.13517083 0.14251502 0.14569363 0.13562077\n",
            " 0.13181805 0.12673808 0.12138233 0.10750675 0.11557665 0.12283375\n",
            " 0.12537374 0.11884235 0.13190514 0.129728   0.14342942 0.13017794\n",
            " 0.12654939 0.12710093 0.12347238 0.12509797 0.13117942 0.12601237\n",
            " 0.129728   0.12319661 0.12609945 0.12364655 0.12174519 0.11865366\n",
            " 0.12464803 0.13045371 0.13371941 0.14070075 0.15194926 0.14932219\n",
            " 0.14787077 0.14088943 0.1305408  0.12300792 0.11820372 0.11892943\n",
            " 0.11839241 0.11566373 0.11248512 0.11512671 0.1110337  0.1119481\n",
            " 0.11331243 0.11077245 0.11248512 0.11485094 0.11367529 0.1110337\n",
            " 0.12083079 0.10913234 0.10232518 0.09924816 0.09743389 0.09361665\n",
            " 0.09666967 0.09731211 0.09881018 0.10066244 0.10274528 0.10498324\n",
            " 0.10732251 0.10972595 0.11216836 0.11463217]\n",
            "10 day output [[0.11710424]]\n",
            "11 day input [0.15803071 0.15929345 0.16338646 0.16673924 0.15803071 0.17009202\n",
            " 0.14731923 0.14533078 0.14115069 0.14816105 0.14968504 0.14614357\n",
            " 0.14242794 0.14768208 0.14659352 0.15367645 0.14904642 0.13879938\n",
            " 0.14569363 0.14441638 0.14768208 0.14650643 0.13771082 0.13090365\n",
            " 0.12437226 0.12646231 0.13154228 0.12845075 0.14061366 0.14088943\n",
            " 0.14387936 0.13517083 0.14251502 0.14569363 0.13562077 0.13181805\n",
            " 0.12673808 0.12138233 0.10750675 0.11557665 0.12283375 0.12537374\n",
            " 0.11884235 0.13190514 0.129728   0.14342942 0.13017794 0.12654939\n",
            " 0.12710093 0.12347238 0.12509797 0.13117942 0.12601237 0.129728\n",
            " 0.12319661 0.12609945 0.12364655 0.12174519 0.11865366 0.12464803\n",
            " 0.13045371 0.13371941 0.14070075 0.15194926 0.14932219 0.14787077\n",
            " 0.14088943 0.1305408  0.12300792 0.11820372 0.11892943 0.11839241\n",
            " 0.11566373 0.11248512 0.11512671 0.1110337  0.1119481  0.11331243\n",
            " 0.11077245 0.11248512 0.11485094 0.11367529 0.1110337  0.12083079\n",
            " 0.10913234 0.10232518 0.09924816 0.09743389 0.09361665 0.09666967\n",
            " 0.09731211 0.09881018 0.10066244 0.10274528 0.10498324 0.10732251\n",
            " 0.10972595 0.11216836 0.11463217 0.11710424]\n",
            "11 day output [[0.11957349]]\n",
            "12 day input [0.15929345 0.16338646 0.16673924 0.15803071 0.17009202 0.14731923\n",
            " 0.14533078 0.14115069 0.14816105 0.14968504 0.14614357 0.14242794\n",
            " 0.14768208 0.14659352 0.15367645 0.14904642 0.13879938 0.14569363\n",
            " 0.14441638 0.14768208 0.14650643 0.13771082 0.13090365 0.12437226\n",
            " 0.12646231 0.13154228 0.12845075 0.14061366 0.14088943 0.14387936\n",
            " 0.13517083 0.14251502 0.14569363 0.13562077 0.13181805 0.12673808\n",
            " 0.12138233 0.10750675 0.11557665 0.12283375 0.12537374 0.11884235\n",
            " 0.13190514 0.129728   0.14342942 0.13017794 0.12654939 0.12710093\n",
            " 0.12347238 0.12509797 0.13117942 0.12601237 0.129728   0.12319661\n",
            " 0.12609945 0.12364655 0.12174519 0.11865366 0.12464803 0.13045371\n",
            " 0.13371941 0.14070075 0.15194926 0.14932219 0.14787077 0.14088943\n",
            " 0.1305408  0.12300792 0.11820372 0.11892943 0.11839241 0.11566373\n",
            " 0.11248512 0.11512671 0.1110337  0.1119481  0.11331243 0.11077245\n",
            " 0.11248512 0.11485094 0.11367529 0.1110337  0.12083079 0.10913234\n",
            " 0.10232518 0.09924816 0.09743389 0.09361665 0.09666967 0.09731211\n",
            " 0.09881018 0.10066244 0.10274528 0.10498324 0.10732251 0.10972595\n",
            " 0.11216836 0.11463217 0.11710424 0.11957349]\n",
            "12 day output [[0.12202938]]\n",
            "13 day input [0.16338646 0.16673924 0.15803071 0.17009202 0.14731923 0.14533078\n",
            " 0.14115069 0.14816105 0.14968504 0.14614357 0.14242794 0.14768208\n",
            " 0.14659352 0.15367645 0.14904642 0.13879938 0.14569363 0.14441638\n",
            " 0.14768208 0.14650643 0.13771082 0.13090365 0.12437226 0.12646231\n",
            " 0.13154228 0.12845075 0.14061366 0.14088943 0.14387936 0.13517083\n",
            " 0.14251502 0.14569363 0.13562077 0.13181805 0.12673808 0.12138233\n",
            " 0.10750675 0.11557665 0.12283375 0.12537374 0.11884235 0.13190514\n",
            " 0.129728   0.14342942 0.13017794 0.12654939 0.12710093 0.12347238\n",
            " 0.12509797 0.13117942 0.12601237 0.129728   0.12319661 0.12609945\n",
            " 0.12364655 0.12174519 0.11865366 0.12464803 0.13045371 0.13371941\n",
            " 0.14070075 0.15194926 0.14932219 0.14787077 0.14088943 0.1305408\n",
            " 0.12300792 0.11820372 0.11892943 0.11839241 0.11566373 0.11248512\n",
            " 0.11512671 0.1110337  0.1119481  0.11331243 0.11077245 0.11248512\n",
            " 0.11485094 0.11367529 0.1110337  0.12083079 0.10913234 0.10232518\n",
            " 0.09924816 0.09743389 0.09361665 0.09666967 0.09731211 0.09881018\n",
            " 0.10066244 0.10274528 0.10498324 0.10732251 0.10972595 0.11216836\n",
            " 0.11463217 0.11710424 0.11957349 0.12202938]\n",
            "13 day output [[0.1244613]]\n",
            "14 day input [0.16673924 0.15803071 0.17009202 0.14731923 0.14533078 0.14115069\n",
            " 0.14816105 0.14968504 0.14614357 0.14242794 0.14768208 0.14659352\n",
            " 0.15367645 0.14904642 0.13879938 0.14569363 0.14441638 0.14768208\n",
            " 0.14650643 0.13771082 0.13090365 0.12437226 0.12646231 0.13154228\n",
            " 0.12845075 0.14061366 0.14088943 0.14387936 0.13517083 0.14251502\n",
            " 0.14569363 0.13562077 0.13181805 0.12673808 0.12138233 0.10750675\n",
            " 0.11557665 0.12283375 0.12537374 0.11884235 0.13190514 0.129728\n",
            " 0.14342942 0.13017794 0.12654939 0.12710093 0.12347238 0.12509797\n",
            " 0.13117942 0.12601237 0.129728   0.12319661 0.12609945 0.12364655\n",
            " 0.12174519 0.11865366 0.12464803 0.13045371 0.13371941 0.14070075\n",
            " 0.15194926 0.14932219 0.14787077 0.14088943 0.1305408  0.12300792\n",
            " 0.11820372 0.11892943 0.11839241 0.11566373 0.11248512 0.11512671\n",
            " 0.1110337  0.1119481  0.11331243 0.11077245 0.11248512 0.11485094\n",
            " 0.11367529 0.1110337  0.12083079 0.10913234 0.10232518 0.09924816\n",
            " 0.09743389 0.09361665 0.09666967 0.09731211 0.09881018 0.10066244\n",
            " 0.10274528 0.10498324 0.10732251 0.10972595 0.11216836 0.11463217\n",
            " 0.11710424 0.11957349 0.12202938 0.1244613 ]\n",
            "14 day output [[0.12685837]]\n",
            "15 day input [0.15803071 0.17009202 0.14731923 0.14533078 0.14115069 0.14816105\n",
            " 0.14968504 0.14614357 0.14242794 0.14768208 0.14659352 0.15367645\n",
            " 0.14904642 0.13879938 0.14569363 0.14441638 0.14768208 0.14650643\n",
            " 0.13771082 0.13090365 0.12437226 0.12646231 0.13154228 0.12845075\n",
            " 0.14061366 0.14088943 0.14387936 0.13517083 0.14251502 0.14569363\n",
            " 0.13562077 0.13181805 0.12673808 0.12138233 0.10750675 0.11557665\n",
            " 0.12283375 0.12537374 0.11884235 0.13190514 0.129728   0.14342942\n",
            " 0.13017794 0.12654939 0.12710093 0.12347238 0.12509797 0.13117942\n",
            " 0.12601237 0.129728   0.12319661 0.12609945 0.12364655 0.12174519\n",
            " 0.11865366 0.12464803 0.13045371 0.13371941 0.14070075 0.15194926\n",
            " 0.14932219 0.14787077 0.14088943 0.1305408  0.12300792 0.11820372\n",
            " 0.11892943 0.11839241 0.11566373 0.11248512 0.11512671 0.1110337\n",
            " 0.1119481  0.11331243 0.11077245 0.11248512 0.11485094 0.11367529\n",
            " 0.1110337  0.12083079 0.10913234 0.10232518 0.09924816 0.09743389\n",
            " 0.09361665 0.09666967 0.09731211 0.09881018 0.10066244 0.10274528\n",
            " 0.10498324 0.10732251 0.10972595 0.11216836 0.11463217 0.11710424\n",
            " 0.11957349 0.12202938 0.1244613  0.12685837]\n",
            "15 day output [[0.12920947]]\n",
            "16 day input [0.17009202 0.14731923 0.14533078 0.14115069 0.14816105 0.14968504\n",
            " 0.14614357 0.14242794 0.14768208 0.14659352 0.15367645 0.14904642\n",
            " 0.13879938 0.14569363 0.14441638 0.14768208 0.14650643 0.13771082\n",
            " 0.13090365 0.12437226 0.12646231 0.13154228 0.12845075 0.14061366\n",
            " 0.14088943 0.14387936 0.13517083 0.14251502 0.14569363 0.13562077\n",
            " 0.13181805 0.12673808 0.12138233 0.10750675 0.11557665 0.12283375\n",
            " 0.12537374 0.11884235 0.13190514 0.129728   0.14342942 0.13017794\n",
            " 0.12654939 0.12710093 0.12347238 0.12509797 0.13117942 0.12601237\n",
            " 0.129728   0.12319661 0.12609945 0.12364655 0.12174519 0.11865366\n",
            " 0.12464803 0.13045371 0.13371941 0.14070075 0.15194926 0.14932219\n",
            " 0.14787077 0.14088943 0.1305408  0.12300792 0.11820372 0.11892943\n",
            " 0.11839241 0.11566373 0.11248512 0.11512671 0.1110337  0.1119481\n",
            " 0.11331243 0.11077245 0.11248512 0.11485094 0.11367529 0.1110337\n",
            " 0.12083079 0.10913234 0.10232518 0.09924816 0.09743389 0.09361665\n",
            " 0.09666967 0.09731211 0.09881018 0.10066244 0.10274528 0.10498324\n",
            " 0.10732251 0.10972595 0.11216836 0.11463217 0.11710424 0.11957349\n",
            " 0.12202938 0.1244613  0.12685837 0.12920947]\n",
            "16 day output [[0.13150379]]\n",
            "17 day input [0.14731923 0.14533078 0.14115069 0.14816105 0.14968504 0.14614357\n",
            " 0.14242794 0.14768208 0.14659352 0.15367645 0.14904642 0.13879938\n",
            " 0.14569363 0.14441638 0.14768208 0.14650643 0.13771082 0.13090365\n",
            " 0.12437226 0.12646231 0.13154228 0.12845075 0.14061366 0.14088943\n",
            " 0.14387936 0.13517083 0.14251502 0.14569363 0.13562077 0.13181805\n",
            " 0.12673808 0.12138233 0.10750675 0.11557665 0.12283375 0.12537374\n",
            " 0.11884235 0.13190514 0.129728   0.14342942 0.13017794 0.12654939\n",
            " 0.12710093 0.12347238 0.12509797 0.13117942 0.12601237 0.129728\n",
            " 0.12319661 0.12609945 0.12364655 0.12174519 0.11865366 0.12464803\n",
            " 0.13045371 0.13371941 0.14070075 0.15194926 0.14932219 0.14787077\n",
            " 0.14088943 0.1305408  0.12300792 0.11820372 0.11892943 0.11839241\n",
            " 0.11566373 0.11248512 0.11512671 0.1110337  0.1119481  0.11331243\n",
            " 0.11077245 0.11248512 0.11485094 0.11367529 0.1110337  0.12083079\n",
            " 0.10913234 0.10232518 0.09924816 0.09743389 0.09361665 0.09666967\n",
            " 0.09731211 0.09881018 0.10066244 0.10274528 0.10498324 0.10732251\n",
            " 0.10972595 0.11216836 0.11463217 0.11710424 0.11957349 0.12202938\n",
            " 0.1244613  0.12685837 0.12920947 0.13150379]\n",
            "17 day output [[0.13373107]]\n",
            "18 day input [0.14533078 0.14115069 0.14816105 0.14968504 0.14614357 0.14242794\n",
            " 0.14768208 0.14659352 0.15367645 0.14904642 0.13879938 0.14569363\n",
            " 0.14441638 0.14768208 0.14650643 0.13771082 0.13090365 0.12437226\n",
            " 0.12646231 0.13154228 0.12845075 0.14061366 0.14088943 0.14387936\n",
            " 0.13517083 0.14251502 0.14569363 0.13562077 0.13181805 0.12673808\n",
            " 0.12138233 0.10750675 0.11557665 0.12283375 0.12537374 0.11884235\n",
            " 0.13190514 0.129728   0.14342942 0.13017794 0.12654939 0.12710093\n",
            " 0.12347238 0.12509797 0.13117942 0.12601237 0.129728   0.12319661\n",
            " 0.12609945 0.12364655 0.12174519 0.11865366 0.12464803 0.13045371\n",
            " 0.13371941 0.14070075 0.15194926 0.14932219 0.14787077 0.14088943\n",
            " 0.1305408  0.12300792 0.11820372 0.11892943 0.11839241 0.11566373\n",
            " 0.11248512 0.11512671 0.1110337  0.1119481  0.11331243 0.11077245\n",
            " 0.11248512 0.11485094 0.11367529 0.1110337  0.12083079 0.10913234\n",
            " 0.10232518 0.09924816 0.09743389 0.09361665 0.09666967 0.09731211\n",
            " 0.09881018 0.10066244 0.10274528 0.10498324 0.10732251 0.10972595\n",
            " 0.11216836 0.11463217 0.11710424 0.11957349 0.12202938 0.1244613\n",
            " 0.12685837 0.12920947 0.13150379 0.13373107]\n",
            "18 day output [[0.13588214]]\n",
            "19 day input [0.14115069 0.14816105 0.14968504 0.14614357 0.14242794 0.14768208\n",
            " 0.14659352 0.15367645 0.14904642 0.13879938 0.14569363 0.14441638\n",
            " 0.14768208 0.14650643 0.13771082 0.13090365 0.12437226 0.12646231\n",
            " 0.13154228 0.12845075 0.14061366 0.14088943 0.14387936 0.13517083\n",
            " 0.14251502 0.14569363 0.13562077 0.13181805 0.12673808 0.12138233\n",
            " 0.10750675 0.11557665 0.12283375 0.12537374 0.11884235 0.13190514\n",
            " 0.129728   0.14342942 0.13017794 0.12654939 0.12710093 0.12347238\n",
            " 0.12509797 0.13117942 0.12601237 0.129728   0.12319661 0.12609945\n",
            " 0.12364655 0.12174519 0.11865366 0.12464803 0.13045371 0.13371941\n",
            " 0.14070075 0.15194926 0.14932219 0.14787077 0.14088943 0.1305408\n",
            " 0.12300792 0.11820372 0.11892943 0.11839241 0.11566373 0.11248512\n",
            " 0.11512671 0.1110337  0.1119481  0.11331243 0.11077245 0.11248512\n",
            " 0.11485094 0.11367529 0.1110337  0.12083079 0.10913234 0.10232518\n",
            " 0.09924816 0.09743389 0.09361665 0.09666967 0.09731211 0.09881018\n",
            " 0.10066244 0.10274528 0.10498324 0.10732251 0.10972595 0.11216836\n",
            " 0.11463217 0.11710424 0.11957349 0.12202938 0.1244613  0.12685837\n",
            " 0.12920947 0.13150379 0.13373107 0.13588214]\n",
            "19 day output [[0.13794911]]\n",
            "20 day input [0.14816105 0.14968504 0.14614357 0.14242794 0.14768208 0.14659352\n",
            " 0.15367645 0.14904642 0.13879938 0.14569363 0.14441638 0.14768208\n",
            " 0.14650643 0.13771082 0.13090365 0.12437226 0.12646231 0.13154228\n",
            " 0.12845075 0.14061366 0.14088943 0.14387936 0.13517083 0.14251502\n",
            " 0.14569363 0.13562077 0.13181805 0.12673808 0.12138233 0.10750675\n",
            " 0.11557665 0.12283375 0.12537374 0.11884235 0.13190514 0.129728\n",
            " 0.14342942 0.13017794 0.12654939 0.12710093 0.12347238 0.12509797\n",
            " 0.13117942 0.12601237 0.129728   0.12319661 0.12609945 0.12364655\n",
            " 0.12174519 0.11865366 0.12464803 0.13045371 0.13371941 0.14070075\n",
            " 0.15194926 0.14932219 0.14787077 0.14088943 0.1305408  0.12300792\n",
            " 0.11820372 0.11892943 0.11839241 0.11566373 0.11248512 0.11512671\n",
            " 0.1110337  0.1119481  0.11331243 0.11077245 0.11248512 0.11485094\n",
            " 0.11367529 0.1110337  0.12083079 0.10913234 0.10232518 0.09924816\n",
            " 0.09743389 0.09361665 0.09666967 0.09731211 0.09881018 0.10066244\n",
            " 0.10274528 0.10498324 0.10732251 0.10972595 0.11216836 0.11463217\n",
            " 0.11710424 0.11957349 0.12202938 0.1244613  0.12685837 0.12920947\n",
            " 0.13150379 0.13373107 0.13588214 0.13794911]\n",
            "20 day output [[0.13992561]]\n",
            "21 day input [0.14968504 0.14614357 0.14242794 0.14768208 0.14659352 0.15367645\n",
            " 0.14904642 0.13879938 0.14569363 0.14441638 0.14768208 0.14650643\n",
            " 0.13771082 0.13090365 0.12437226 0.12646231 0.13154228 0.12845075\n",
            " 0.14061366 0.14088943 0.14387936 0.13517083 0.14251502 0.14569363\n",
            " 0.13562077 0.13181805 0.12673808 0.12138233 0.10750675 0.11557665\n",
            " 0.12283375 0.12537374 0.11884235 0.13190514 0.129728   0.14342942\n",
            " 0.13017794 0.12654939 0.12710093 0.12347238 0.12509797 0.13117942\n",
            " 0.12601237 0.129728   0.12319661 0.12609945 0.12364655 0.12174519\n",
            " 0.11865366 0.12464803 0.13045371 0.13371941 0.14070075 0.15194926\n",
            " 0.14932219 0.14787077 0.14088943 0.1305408  0.12300792 0.11820372\n",
            " 0.11892943 0.11839241 0.11566373 0.11248512 0.11512671 0.1110337\n",
            " 0.1119481  0.11331243 0.11077245 0.11248512 0.11485094 0.11367529\n",
            " 0.1110337  0.12083079 0.10913234 0.10232518 0.09924816 0.09743389\n",
            " 0.09361665 0.09666967 0.09731211 0.09881018 0.10066244 0.10274528\n",
            " 0.10498324 0.10732251 0.10972595 0.11216836 0.11463217 0.11710424\n",
            " 0.11957349 0.12202938 0.1244613  0.12685837 0.12920947 0.13150379\n",
            " 0.13373107 0.13588214 0.13794911 0.13992561]\n",
            "21 day output [[0.14180706]]\n",
            "22 day input [0.14614357 0.14242794 0.14768208 0.14659352 0.15367645 0.14904642\n",
            " 0.13879938 0.14569363 0.14441638 0.14768208 0.14650643 0.13771082\n",
            " 0.13090365 0.12437226 0.12646231 0.13154228 0.12845075 0.14061366\n",
            " 0.14088943 0.14387936 0.13517083 0.14251502 0.14569363 0.13562077\n",
            " 0.13181805 0.12673808 0.12138233 0.10750675 0.11557665 0.12283375\n",
            " 0.12537374 0.11884235 0.13190514 0.129728   0.14342942 0.13017794\n",
            " 0.12654939 0.12710093 0.12347238 0.12509797 0.13117942 0.12601237\n",
            " 0.129728   0.12319661 0.12609945 0.12364655 0.12174519 0.11865366\n",
            " 0.12464803 0.13045371 0.13371941 0.14070075 0.15194926 0.14932219\n",
            " 0.14787077 0.14088943 0.1305408  0.12300792 0.11820372 0.11892943\n",
            " 0.11839241 0.11566373 0.11248512 0.11512671 0.1110337  0.1119481\n",
            " 0.11331243 0.11077245 0.11248512 0.11485094 0.11367529 0.1110337\n",
            " 0.12083079 0.10913234 0.10232518 0.09924816 0.09743389 0.09361665\n",
            " 0.09666967 0.09731211 0.09881018 0.10066244 0.10274528 0.10498324\n",
            " 0.10732251 0.10972595 0.11216836 0.11463217 0.11710424 0.11957349\n",
            " 0.12202938 0.1244613  0.12685837 0.12920947 0.13150379 0.13373107\n",
            " 0.13588214 0.13794911 0.13992561 0.14180706]\n",
            "22 day output [[0.14359052]]\n",
            "23 day input [0.14242794 0.14768208 0.14659352 0.15367645 0.14904642 0.13879938\n",
            " 0.14569363 0.14441638 0.14768208 0.14650643 0.13771082 0.13090365\n",
            " 0.12437226 0.12646231 0.13154228 0.12845075 0.14061366 0.14088943\n",
            " 0.14387936 0.13517083 0.14251502 0.14569363 0.13562077 0.13181805\n",
            " 0.12673808 0.12138233 0.10750675 0.11557665 0.12283375 0.12537374\n",
            " 0.11884235 0.13190514 0.129728   0.14342942 0.13017794 0.12654939\n",
            " 0.12710093 0.12347238 0.12509797 0.13117942 0.12601237 0.129728\n",
            " 0.12319661 0.12609945 0.12364655 0.12174519 0.11865366 0.12464803\n",
            " 0.13045371 0.13371941 0.14070075 0.15194926 0.14932219 0.14787077\n",
            " 0.14088943 0.1305408  0.12300792 0.11820372 0.11892943 0.11839241\n",
            " 0.11566373 0.11248512 0.11512671 0.1110337  0.1119481  0.11331243\n",
            " 0.11077245 0.11248512 0.11485094 0.11367529 0.1110337  0.12083079\n",
            " 0.10913234 0.10232518 0.09924816 0.09743389 0.09361665 0.09666967\n",
            " 0.09731211 0.09881018 0.10066244 0.10274528 0.10498324 0.10732251\n",
            " 0.10972595 0.11216836 0.11463217 0.11710424 0.11957349 0.12202938\n",
            " 0.1244613  0.12685837 0.12920947 0.13150379 0.13373107 0.13588214\n",
            " 0.13794911 0.13992561 0.14180706 0.14359052]\n",
            "23 day output [[0.14527462]]\n",
            "24 day input [0.14768208 0.14659352 0.15367645 0.14904642 0.13879938 0.14569363\n",
            " 0.14441638 0.14768208 0.14650643 0.13771082 0.13090365 0.12437226\n",
            " 0.12646231 0.13154228 0.12845075 0.14061366 0.14088943 0.14387936\n",
            " 0.13517083 0.14251502 0.14569363 0.13562077 0.13181805 0.12673808\n",
            " 0.12138233 0.10750675 0.11557665 0.12283375 0.12537374 0.11884235\n",
            " 0.13190514 0.129728   0.14342942 0.13017794 0.12654939 0.12710093\n",
            " 0.12347238 0.12509797 0.13117942 0.12601237 0.129728   0.12319661\n",
            " 0.12609945 0.12364655 0.12174519 0.11865366 0.12464803 0.13045371\n",
            " 0.13371941 0.14070075 0.15194926 0.14932219 0.14787077 0.14088943\n",
            " 0.1305408  0.12300792 0.11820372 0.11892943 0.11839241 0.11566373\n",
            " 0.11248512 0.11512671 0.1110337  0.1119481  0.11331243 0.11077245\n",
            " 0.11248512 0.11485094 0.11367529 0.1110337  0.12083079 0.10913234\n",
            " 0.10232518 0.09924816 0.09743389 0.09361665 0.09666967 0.09731211\n",
            " 0.09881018 0.10066244 0.10274528 0.10498324 0.10732251 0.10972595\n",
            " 0.11216836 0.11463217 0.11710424 0.11957349 0.12202938 0.1244613\n",
            " 0.12685837 0.12920947 0.13150379 0.13373107 0.13588214 0.13794911\n",
            " 0.13992561 0.14180706 0.14359052 0.14527462]\n",
            "24 day output [[0.14685956]]\n",
            "25 day input [0.14659352 0.15367645 0.14904642 0.13879938 0.14569363 0.14441638\n",
            " 0.14768208 0.14650643 0.13771082 0.13090365 0.12437226 0.12646231\n",
            " 0.13154228 0.12845075 0.14061366 0.14088943 0.14387936 0.13517083\n",
            " 0.14251502 0.14569363 0.13562077 0.13181805 0.12673808 0.12138233\n",
            " 0.10750675 0.11557665 0.12283375 0.12537374 0.11884235 0.13190514\n",
            " 0.129728   0.14342942 0.13017794 0.12654939 0.12710093 0.12347238\n",
            " 0.12509797 0.13117942 0.12601237 0.129728   0.12319661 0.12609945\n",
            " 0.12364655 0.12174519 0.11865366 0.12464803 0.13045371 0.13371941\n",
            " 0.14070075 0.15194926 0.14932219 0.14787077 0.14088943 0.1305408\n",
            " 0.12300792 0.11820372 0.11892943 0.11839241 0.11566373 0.11248512\n",
            " 0.11512671 0.1110337  0.1119481  0.11331243 0.11077245 0.11248512\n",
            " 0.11485094 0.11367529 0.1110337  0.12083079 0.10913234 0.10232518\n",
            " 0.09924816 0.09743389 0.09361665 0.09666967 0.09731211 0.09881018\n",
            " 0.10066244 0.10274528 0.10498324 0.10732251 0.10972595 0.11216836\n",
            " 0.11463217 0.11710424 0.11957349 0.12202938 0.1244613  0.12685837\n",
            " 0.12920947 0.13150379 0.13373107 0.13588214 0.13794911 0.13992561\n",
            " 0.14180706 0.14359052 0.14527462 0.14685956]\n",
            "25 day output [[0.14834686]]\n",
            "26 day input [0.15367645 0.14904642 0.13879938 0.14569363 0.14441638 0.14768208\n",
            " 0.14650643 0.13771082 0.13090365 0.12437226 0.12646231 0.13154228\n",
            " 0.12845075 0.14061366 0.14088943 0.14387936 0.13517083 0.14251502\n",
            " 0.14569363 0.13562077 0.13181805 0.12673808 0.12138233 0.10750675\n",
            " 0.11557665 0.12283375 0.12537374 0.11884235 0.13190514 0.129728\n",
            " 0.14342942 0.13017794 0.12654939 0.12710093 0.12347238 0.12509797\n",
            " 0.13117942 0.12601237 0.129728   0.12319661 0.12609945 0.12364655\n",
            " 0.12174519 0.11865366 0.12464803 0.13045371 0.13371941 0.14070075\n",
            " 0.15194926 0.14932219 0.14787077 0.14088943 0.1305408  0.12300792\n",
            " 0.11820372 0.11892943 0.11839241 0.11566373 0.11248512 0.11512671\n",
            " 0.1110337  0.1119481  0.11331243 0.11077245 0.11248512 0.11485094\n",
            " 0.11367529 0.1110337  0.12083079 0.10913234 0.10232518 0.09924816\n",
            " 0.09743389 0.09361665 0.09666967 0.09731211 0.09881018 0.10066244\n",
            " 0.10274528 0.10498324 0.10732251 0.10972595 0.11216836 0.11463217\n",
            " 0.11710424 0.11957349 0.12202938 0.1244613  0.12685837 0.12920947\n",
            " 0.13150379 0.13373107 0.13588214 0.13794911 0.13992561 0.14180706\n",
            " 0.14359052 0.14527462 0.14685956 0.14834686]\n",
            "26 day output [[0.1497392]]\n",
            "27 day input [0.14904642 0.13879938 0.14569363 0.14441638 0.14768208 0.14650643\n",
            " 0.13771082 0.13090365 0.12437226 0.12646231 0.13154228 0.12845075\n",
            " 0.14061366 0.14088943 0.14387936 0.13517083 0.14251502 0.14569363\n",
            " 0.13562077 0.13181805 0.12673808 0.12138233 0.10750675 0.11557665\n",
            " 0.12283375 0.12537374 0.11884235 0.13190514 0.129728   0.14342942\n",
            " 0.13017794 0.12654939 0.12710093 0.12347238 0.12509797 0.13117942\n",
            " 0.12601237 0.129728   0.12319661 0.12609945 0.12364655 0.12174519\n",
            " 0.11865366 0.12464803 0.13045371 0.13371941 0.14070075 0.15194926\n",
            " 0.14932219 0.14787077 0.14088943 0.1305408  0.12300792 0.11820372\n",
            " 0.11892943 0.11839241 0.11566373 0.11248512 0.11512671 0.1110337\n",
            " 0.1119481  0.11331243 0.11077245 0.11248512 0.11485094 0.11367529\n",
            " 0.1110337  0.12083079 0.10913234 0.10232518 0.09924816 0.09743389\n",
            " 0.09361665 0.09666967 0.09731211 0.09881018 0.10066244 0.10274528\n",
            " 0.10498324 0.10732251 0.10972595 0.11216836 0.11463217 0.11710424\n",
            " 0.11957349 0.12202938 0.1244613  0.12685837 0.12920947 0.13150379\n",
            " 0.13373107 0.13588214 0.13794911 0.13992561 0.14180706 0.14359052\n",
            " 0.14527462 0.14685956 0.14834686 0.14973921]\n",
            "27 day output [[0.15104018]]\n",
            "28 day input [0.13879938 0.14569363 0.14441638 0.14768208 0.14650643 0.13771082\n",
            " 0.13090365 0.12437226 0.12646231 0.13154228 0.12845075 0.14061366\n",
            " 0.14088943 0.14387936 0.13517083 0.14251502 0.14569363 0.13562077\n",
            " 0.13181805 0.12673808 0.12138233 0.10750675 0.11557665 0.12283375\n",
            " 0.12537374 0.11884235 0.13190514 0.129728   0.14342942 0.13017794\n",
            " 0.12654939 0.12710093 0.12347238 0.12509797 0.13117942 0.12601237\n",
            " 0.129728   0.12319661 0.12609945 0.12364655 0.12174519 0.11865366\n",
            " 0.12464803 0.13045371 0.13371941 0.14070075 0.15194926 0.14932219\n",
            " 0.14787077 0.14088943 0.1305408  0.12300792 0.11820372 0.11892943\n",
            " 0.11839241 0.11566373 0.11248512 0.11512671 0.1110337  0.1119481\n",
            " 0.11331243 0.11077245 0.11248512 0.11485094 0.11367529 0.1110337\n",
            " 0.12083079 0.10913234 0.10232518 0.09924816 0.09743389 0.09361665\n",
            " 0.09666967 0.09731211 0.09881018 0.10066244 0.10274528 0.10498324\n",
            " 0.10732251 0.10972595 0.11216836 0.11463217 0.11710424 0.11957349\n",
            " 0.12202938 0.1244613  0.12685837 0.12920947 0.13150379 0.13373107\n",
            " 0.13588214 0.13794911 0.13992561 0.14180706 0.14359052 0.14527462\n",
            " 0.14685956 0.14834686 0.14973921 0.15104018]\n",
            "28 day output [[0.15225418]]\n",
            "29 day input [0.14569363 0.14441638 0.14768208 0.14650643 0.13771082 0.13090365\n",
            " 0.12437226 0.12646231 0.13154228 0.12845075 0.14061366 0.14088943\n",
            " 0.14387936 0.13517083 0.14251502 0.14569363 0.13562077 0.13181805\n",
            " 0.12673808 0.12138233 0.10750675 0.11557665 0.12283375 0.12537374\n",
            " 0.11884235 0.13190514 0.129728   0.14342942 0.13017794 0.12654939\n",
            " 0.12710093 0.12347238 0.12509797 0.13117942 0.12601237 0.129728\n",
            " 0.12319661 0.12609945 0.12364655 0.12174519 0.11865366 0.12464803\n",
            " 0.13045371 0.13371941 0.14070075 0.15194926 0.14932219 0.14787077\n",
            " 0.14088943 0.1305408  0.12300792 0.11820372 0.11892943 0.11839241\n",
            " 0.11566373 0.11248512 0.11512671 0.1110337  0.1119481  0.11331243\n",
            " 0.11077245 0.11248512 0.11485094 0.11367529 0.1110337  0.12083079\n",
            " 0.10913234 0.10232518 0.09924816 0.09743389 0.09361665 0.09666967\n",
            " 0.09731211 0.09881018 0.10066244 0.10274528 0.10498324 0.10732251\n",
            " 0.10972595 0.11216836 0.11463217 0.11710424 0.11957349 0.12202938\n",
            " 0.1244613  0.12685837 0.12920947 0.13150379 0.13373107 0.13588214\n",
            " 0.13794911 0.13992561 0.14180706 0.14359052 0.14527462 0.14685956\n",
            " 0.14834686 0.14973921 0.15104018 0.15225418]\n",
            "29 day output [[0.15338612]]\n"
          ]
        }
      ]
    },
    {
      "cell_type": "code",
      "source": [
        "day_new=np.arange(1,101)\n",
        "day_pred=np.arange(101,131)"
      ],
      "metadata": {
        "id": "9TFunjXlZjQZ"
      },
      "execution_count": null,
      "outputs": []
    },
    {
      "cell_type": "code",
      "source": [
        "len(d1)"
      ],
      "metadata": {
        "colab": {
          "base_uri": "https://localhost:8080/"
        },
        "id": "krCiCzU2Z4_Y",
        "outputId": "a6b86aee-d88c-4da0-b704-228a348c68fe"
      },
      "execution_count": null,
      "outputs": [
        {
          "output_type": "execute_result",
          "data": {
            "text/plain": [
              "6190"
            ]
          },
          "metadata": {},
          "execution_count": 40
        }
      ]
    },
    {
      "cell_type": "code",
      "source": [
        "plt.plot(day_new,scaler.inverse_transform(d1[6090:]))\n",
        "plt.plot(day_pred,scaler.inverse_transform(lst_output))"
      ],
      "metadata": {
        "colab": {
          "base_uri": "https://localhost:8080/",
          "height": 447
        },
        "id": "Qgk2WECIaER-",
        "outputId": "ae8fd93b-8cd9-4ccf-b30b-a3eb9713b605"
      },
      "execution_count": null,
      "outputs": [
        {
          "output_type": "execute_result",
          "data": {
            "text/plain": [
              "[<matplotlib.lines.Line2D at 0x7e4364946f80>]"
            ]
          },
          "metadata": {},
          "execution_count": 41
        },
        {
          "output_type": "display_data",
          "data": {
            "text/plain": [
              "<Figure size 640x480 with 1 Axes>"
            ],
            "image/png": "[encoded data removed]"
          },
          "metadata": {}
        }
      ]
    },
    {
      "cell_type": "code",
      "source": [
        "d3=d1.tolist()\n",
        "d3.extend(lst_output)\n",
        "plt.plot(d3[6090:])"
      ],
      "metadata": {
        "colab": {
          "base_uri": "https://localhost:8080/",
          "height": 447
        },
        "id": "c_MrqGNraNOk",
        "outputId": "8a4373c4-e412-4232-a365-a2092e8c558b"
      },
      "execution_count": null,
      "outputs": [
        {
          "output_type": "execute_result",
          "data": {
            "text/plain": [
              "[<matplotlib.lines.Line2D at 0x7e42ee1400d0>]"
            ]
          },
          "metadata": {},
          "execution_count": 45
        },
        {
          "output_type": "display_data",
          "data": {
            "text/plain": [
              "<Figure size 640x480 with 1 Axes>"
            ],
            "image/png": "[encoded data removed]"
          },
          "metadata": {}
        }
      ]
    },
    {
      "cell_type": "code",
      "source": [
        "df3=scaler.inverse_transform(d3).tolist()"
      ],
      "metadata": {
        "id": "Zy7RQU9Ua0VB"
      },
      "execution_count": null,
      "outputs": []
    },
    {
      "cell_type": "code",
      "source": [
        "plt.plot(df3)"
      ],
      "metadata": {
        "colab": {
          "base_uri": "https://localhost:8080/",
          "height": 447
        },
        "id": "3_IRSL2lblFx",
        "outputId": "9c1dfc05-eda9-448e-bd09-3f5d6b20d355"
      },
      "execution_count": null,
      "outputs": [
        {
          "output_type": "execute_result",
          "data": {
            "text/plain": [
              "[<matplotlib.lines.Line2D at 0x7e42ee12eda0>]"
            ]
          },
          "metadata": {},
          "execution_count": 47
        },
        {
          "output_type": "display_data",
          "data": {
            "text/plain": [
              "<Figure size 640x480 with 1 Axes>"
            ],
            "image/png": "[encoded data removed]"
          },
          "metadata": {}
        }
      ]
    },
    {
      "cell_type": "code",
      "source": [],
      "metadata": {
        "id": "NjnYtEhObn_P"
      },
      "execution_count": null,
      "outputs": []
    }
  ]
}